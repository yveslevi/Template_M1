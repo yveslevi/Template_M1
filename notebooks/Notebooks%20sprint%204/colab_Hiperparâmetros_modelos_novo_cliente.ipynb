{
  "cells": [
    {
      "cell_type": "markdown",
      "metadata": {
        "id": "view-in-github",
        "colab_type": "text"
      },
      "source": [
        "<a href=\"https://colab.research.google.com/github/yveslevi/Template_M1/blob/main/notebooks/Notebooks%2520sprint%25204/colab_Hiperpar%C3%A2metros_modelos_novo_cliente.ipynb\" target=\"_parent\"><img src=\"https://colab.research.google.com/assets/colab-badge.svg\" alt=\"Open In Colab\"/></a>"
      ]
    },
    {
      "cell_type": "markdown",
      "metadata": {
        "id": "_fUofvMG8eMB"
      },
      "source": [
        "#Bibliotecas e autenticação"
      ]
    },
    {
      "cell_type": "code",
      "execution_count": null,
      "metadata": {
        "id": "6rHk2XcT8W4H"
      },
      "outputs": [],
      "source": [
        "!pip install -U -q PyDrive"
      ]
    },
    {
      "cell_type": "code",
      "execution_count": null,
      "metadata": {
        "id": "sJE9oWJ78lpx"
      },
      "outputs": [],
      "source": [
        "import pandas as pd\n",
        "import plotly.express as px\n",
        "from sklearn.preprocessing import LabelBinarizer\n",
        "from pydrive.auth import GoogleAuth\n",
        "from pydrive.drive import GoogleDrive\n",
        "from google.colab import auth\n",
        "from oauth2client.client import GoogleCredentials\n",
        "import warnings\n",
        "warnings.filterwarnings('ignore')\n",
        "from sklearn.feature_selection import SelectKBest\n",
        "from sklearn.feature_selection import f_classif, mutual_info_classif\n",
        "from sklearn.preprocessing import MinMaxScaler\n",
        "from sklearn.metrics import plot_confusion_matrix\n",
        "from sklearn.ensemble import RandomForestClassifier\n",
        "from sklearn.metrics import recall_score\n",
        "from sklearn.metrics import precision_score\n",
        "from sklearn.tree import DecisionTreeClassifier"
      ]
    },
    {
      "cell_type": "code",
      "execution_count": null,
      "metadata": {
        "id": "JKgm1jSz8o7f"
      },
      "outputs": [],
      "source": [
        "#autenticação email inteli\n",
        "auth.authenticate_user()\n",
        "gauth = GoogleAuth()\n",
        "gauth.credentials = GoogleCredentials.get_application_default()\n",
        "drive = GoogleDrive(gauth)"
      ]
    },
    {
      "cell_type": "code",
      "execution_count": null,
      "metadata": {
        "id": "4p0uVvPf8rTw"
      },
      "outputs": [],
      "source": [
        "#dowload base de dados\n",
        "downloaded = drive.CreateFile({'id': '1-EL5jV5m_7zJi-rKgDXMAcCSrTGkq7z2'})\n",
        "downloaded.GetContentFile('not_client.csv')\n",
        "downloaded = drive.CreateFile({'id': '1-C4iOW6z7oAtWCHhwuC-IeTxp8COwbxj'})\n",
        "downloaded.GetContentFile('client.csv')"
      ]
    },
    {
      "cell_type": "code",
      "execution_count": null,
      "metadata": {
        "id": "wRd9wzGzPTEw"
      },
      "outputs": [],
      "source": [
        "# Dados lidos do arquvio csv\n",
        "not_client = pd.read_csv('not_client.csv')\n",
        "client = pd.read_csv('client.csv')"
      ]
    },
    {
      "cell_type": "markdown",
      "metadata": {
        "id": "ITRInxIZ37zA"
      },
      "source": [
        "#Comparação de features em relação ao indice de novo cliente\n"
      ]
    },
    {
      "cell_type": "code",
      "execution_count": null,
      "metadata": {
        "colab": {
          "base_uri": "https://localhost:8080/",
          "height": 332
        },
        "id": "dw8BcEyKEuyq",
        "outputId": "1a6205ae-ff87-4067-8d5f-d691694428d7"
      },
      "outputs": [
        {
          "output_type": "execute_result",
          "data": {
            "text/plain": [
              "<pandas.io.formats.style.Styler at 0x7f1db5f59ad0>"
            ],
            "text/html": [
              "<style type=\"text/css\">\n",
              "#T_88c68_row0_col0, #T_88c68_row1_col1, #T_88c68_row2_col2, #T_88c68_row3_col3, #T_88c68_row4_col4, #T_88c68_row5_col5, #T_88c68_row6_col6, #T_88c68_row7_col7, #T_88c68_row8_col8 {\n",
              "  background-color: #b40426;\n",
              "  color: #f1f1f1;\n",
              "}\n",
              "#T_88c68_row0_col1, #T_88c68_row0_col4, #T_88c68_row0_col5, #T_88c68_row0_col7, #T_88c68_row1_col0, #T_88c68_row1_col2, #T_88c68_row1_col4, #T_88c68_row2_col5, #T_88c68_row2_col7, #T_88c68_row3_col0, #T_88c68_row3_col5, #T_88c68_row4_col1, #T_88c68_row4_col5, #T_88c68_row4_col7, #T_88c68_row5_col2, #T_88c68_row5_col4, #T_88c68_row5_col7, #T_88c68_row6_col0, #T_88c68_row6_col2, #T_88c68_row6_col3, #T_88c68_row6_col4, #T_88c68_row6_col8, #T_88c68_row7_col2, #T_88c68_row7_col4, #T_88c68_row7_col5, #T_88c68_row8_col0, #T_88c68_row8_col4, #T_88c68_row8_col5, #T_88c68_row8_col6 {\n",
              "  background-color: #3b4cc0;\n",
              "  color: #f1f1f1;\n",
              "}\n",
              "#T_88c68_row0_col2, #T_88c68_row1_col5, #T_88c68_row2_col1, #T_88c68_row3_col4, #T_88c68_row4_col0, #T_88c68_row5_col0, #T_88c68_row5_col1, #T_88c68_row6_col5, #T_88c68_row7_col0, #T_88c68_row8_col2 {\n",
              "  background-color: #3c4ec2;\n",
              "  color: #f1f1f1;\n",
              "}\n",
              "#T_88c68_row0_col3, #T_88c68_row5_col3, #T_88c68_row6_col7 {\n",
              "  background-color: #5673e0;\n",
              "  color: #f1f1f1;\n",
              "}\n",
              "#T_88c68_row0_col6, #T_88c68_row2_col6, #T_88c68_row4_col6, #T_88c68_row4_col8, #T_88c68_row5_col8 {\n",
              "  background-color: #89acfd;\n",
              "  color: #000000;\n",
              "}\n",
              "#T_88c68_row0_col8 {\n",
              "  background-color: #88abfd;\n",
              "  color: #000000;\n",
              "}\n",
              "#T_88c68_row1_col3 {\n",
              "  background-color: #7396f5;\n",
              "  color: #f1f1f1;\n",
              "}\n",
              "#T_88c68_row1_col6 {\n",
              "  background-color: #a7c5fe;\n",
              "  color: #000000;\n",
              "}\n",
              "#T_88c68_row1_col7 {\n",
              "  background-color: #d6dce4;\n",
              "  color: #000000;\n",
              "}\n",
              "#T_88c68_row1_col8 {\n",
              "  background-color: #92b4fe;\n",
              "  color: #000000;\n",
              "}\n",
              "#T_88c68_row2_col0, #T_88c68_row3_col2 {\n",
              "  background-color: #3d50c3;\n",
              "  color: #f1f1f1;\n",
              "}\n",
              "#T_88c68_row2_col3, #T_88c68_row3_col1 {\n",
              "  background-color: #5977e3;\n",
              "  color: #f1f1f1;\n",
              "}\n",
              "#T_88c68_row2_col4, #T_88c68_row4_col2 {\n",
              "  background-color: #e6d7cf;\n",
              "  color: #000000;\n",
              "}\n",
              "#T_88c68_row2_col8, #T_88c68_row5_col6 {\n",
              "  background-color: #8badfd;\n",
              "  color: #000000;\n",
              "}\n",
              "#T_88c68_row3_col6 {\n",
              "  background-color: #6e90f2;\n",
              "  color: #f1f1f1;\n",
              "}\n",
              "#T_88c68_row3_col7 {\n",
              "  background-color: #688aef;\n",
              "  color: #f1f1f1;\n",
              "}\n",
              "#T_88c68_row3_col8 {\n",
              "  background-color: #f7a98b;\n",
              "  color: #000000;\n",
              "}\n",
              "#T_88c68_row4_col3 {\n",
              "  background-color: #5875e1;\n",
              "  color: #f1f1f1;\n",
              "}\n",
              "#T_88c68_row6_col1 {\n",
              "  background-color: #5f7fe8;\n",
              "  color: #f1f1f1;\n",
              "}\n",
              "#T_88c68_row7_col1 {\n",
              "  background-color: #d7dce3;\n",
              "  color: #000000;\n",
              "}\n",
              "#T_88c68_row7_col3 {\n",
              "  background-color: #84a7fc;\n",
              "  color: #f1f1f1;\n",
              "}\n",
              "#T_88c68_row7_col6 {\n",
              "  background-color: #a1c0ff;\n",
              "  color: #000000;\n",
              "}\n",
              "#T_88c68_row7_col8 {\n",
              "  background-color: #9bbcff;\n",
              "  color: #000000;\n",
              "}\n",
              "#T_88c68_row8_col1 {\n",
              "  background-color: #445acc;\n",
              "  color: #f1f1f1;\n",
              "}\n",
              "#T_88c68_row8_col3 {\n",
              "  background-color: #f7bca1;\n",
              "  color: #000000;\n",
              "}\n",
              "#T_88c68_row8_col7 {\n",
              "  background-color: #4f69d9;\n",
              "  color: #f1f1f1;\n",
              "}\n",
              "</style>\n",
              "<table id=\"T_88c68_\" class=\"dataframe\">\n",
              "  <thead>\n",
              "    <tr>\n",
              "      <th class=\"blank level0\" >&nbsp;</th>\n",
              "      <th class=\"col_heading level0 col0\" >Unnamed: 0</th>\n",
              "      <th class=\"col_heading level0 col1\" >vlr_credito</th>\n",
              "      <th class=\"col_heading level0 col2\" >num_atend_atrs</th>\n",
              "      <th class=\"col_heading level0 col3\" >vlr_score</th>\n",
              "      <th class=\"col_heading level0 col4\" >num_atend</th>\n",
              "      <th class=\"col_heading level0 col5\" >qtd_reclm</th>\n",
              "      <th class=\"col_heading level0 col6\" >qtd_restr</th>\n",
              "      <th class=\"col_heading level0 col7\" >vlr_renda</th>\n",
              "      <th class=\"col_heading level0 col8\" >ind_novo_cli</th>\n",
              "    </tr>\n",
              "  </thead>\n",
              "  <tbody>\n",
              "    <tr>\n",
              "      <th id=\"T_88c68_level0_row0\" class=\"row_heading level0 row0\" >Unnamed: 0</th>\n",
              "      <td id=\"T_88c68_row0_col0\" class=\"data row0 col0\" >1.000000</td>\n",
              "      <td id=\"T_88c68_row0_col1\" class=\"data row0 col1\" >-0.004607</td>\n",
              "      <td id=\"T_88c68_row0_col2\" class=\"data row0 col2\" >0.005030</td>\n",
              "      <td id=\"T_88c68_row0_col3\" class=\"data row0 col3\" >-0.003689</td>\n",
              "      <td id=\"T_88c68_row0_col4\" class=\"data row0 col4\" >0.001298</td>\n",
              "      <td id=\"T_88c68_row0_col5\" class=\"data row0 col5\" >0.000004</td>\n",
              "      <td id=\"T_88c68_row0_col6\" class=\"data row0 col6\" >-0.002301</td>\n",
              "      <td id=\"T_88c68_row0_col7\" class=\"data row0 col7\" >-0.000855</td>\n",
              "      <td id=\"T_88c68_row0_col8\" class=\"data row0 col8\" >-0.005114</td>\n",
              "    </tr>\n",
              "    <tr>\n",
              "      <th id=\"T_88c68_level0_row1\" class=\"row_heading level0 row1\" >vlr_credito</th>\n",
              "      <td id=\"T_88c68_row1_col0\" class=\"data row1 col0\" >-0.004607</td>\n",
              "      <td id=\"T_88c68_row1_col1\" class=\"data row1 col1\" >1.000000</td>\n",
              "      <td id=\"T_88c68_row1_col2\" class=\"data row1 col2\" >-0.000654</td>\n",
              "      <td id=\"T_88c68_row1_col3\" class=\"data row1 col3\" >0.094079</td>\n",
              "      <td id=\"T_88c68_row1_col4\" class=\"data row1 col4\" >-0.001340</td>\n",
              "      <td id=\"T_88c68_row1_col5\" class=\"data row1 col5\" >0.002196</td>\n",
              "      <td id=\"T_88c68_row1_col6\" class=\"data row1 col6\" >0.114967</td>\n",
              "      <td id=\"T_88c68_row1_col7\" class=\"data row1 col7\" >0.474466</td>\n",
              "      <td id=\"T_88c68_row1_col8\" class=\"data row1 col8\" >0.028897</td>\n",
              "    </tr>\n",
              "    <tr>\n",
              "      <th id=\"T_88c68_level0_row2\" class=\"row_heading level0 row2\" >num_atend_atrs</th>\n",
              "      <td id=\"T_88c68_row2_col0\" class=\"data row2 col0\" >0.005030</td>\n",
              "      <td id=\"T_88c68_row2_col1\" class=\"data row2 col1\" >-0.000654</td>\n",
              "      <td id=\"T_88c68_row2_col2\" class=\"data row2 col2\" >1.000000</td>\n",
              "      <td id=\"T_88c68_row2_col3\" class=\"data row2 col3\" >0.007907</td>\n",
              "      <td id=\"T_88c68_row2_col4\" class=\"data row2 col4\" >0.537946</td>\n",
              "      <td id=\"T_88c68_row2_col5\" class=\"data row2 col5\" >-0.000046</td>\n",
              "      <td id=\"T_88c68_row2_col6\" class=\"data row2 col6\" >-0.000860</td>\n",
              "      <td id=\"T_88c68_row2_col7\" class=\"data row2 col7\" >0.000204</td>\n",
              "      <td id=\"T_88c68_row2_col8\" class=\"data row2 col8\" >0.004194</td>\n",
              "    </tr>\n",
              "    <tr>\n",
              "      <th id=\"T_88c68_level0_row3\" class=\"row_heading level0 row3\" >vlr_score</th>\n",
              "      <td id=\"T_88c68_row3_col0\" class=\"data row3 col0\" >-0.003689</td>\n",
              "      <td id=\"T_88c68_row3_col1\" class=\"data row3 col1\" >0.094079</td>\n",
              "      <td id=\"T_88c68_row3_col2\" class=\"data row3 col2\" >0.007907</td>\n",
              "      <td id=\"T_88c68_row3_col3\" class=\"data row3 col3\" >1.000000</td>\n",
              "      <td id=\"T_88c68_row3_col4\" class=\"data row3 col4\" >0.003653</td>\n",
              "      <td id=\"T_88c68_row3_col5\" class=\"data row3 col5\" >-0.002278</td>\n",
              "      <td id=\"T_88c68_row3_col6\" class=\"data row3 col6\" >-0.103882</td>\n",
              "      <td id=\"T_88c68_row3_col7\" class=\"data row3 col7\" >0.145935</td>\n",
              "      <td id=\"T_88c68_row3_col8\" class=\"data row3 col8\" >0.618704</td>\n",
              "    </tr>\n",
              "    <tr>\n",
              "      <th id=\"T_88c68_level0_row4\" class=\"row_heading level0 row4\" >num_atend</th>\n",
              "      <td id=\"T_88c68_row4_col0\" class=\"data row4 col0\" >0.001298</td>\n",
              "      <td id=\"T_88c68_row4_col1\" class=\"data row4 col1\" >-0.001340</td>\n",
              "      <td id=\"T_88c68_row4_col2\" class=\"data row4 col2\" >0.537946</td>\n",
              "      <td id=\"T_88c68_row4_col3\" class=\"data row4 col3\" >0.003653</td>\n",
              "      <td id=\"T_88c68_row4_col4\" class=\"data row4 col4\" >1.000000</td>\n",
              "      <td id=\"T_88c68_row4_col5\" class=\"data row4 col5\" >-0.000088</td>\n",
              "      <td id=\"T_88c68_row4_col6\" class=\"data row4 col6\" >-0.000059</td>\n",
              "      <td id=\"T_88c68_row4_col7\" class=\"data row4 col7\" >0.001665</td>\n",
              "      <td id=\"T_88c68_row4_col8\" class=\"data row4 col8\" >-0.001255</td>\n",
              "    </tr>\n",
              "    <tr>\n",
              "      <th id=\"T_88c68_level0_row5\" class=\"row_heading level0 row5\" >qtd_reclm</th>\n",
              "      <td id=\"T_88c68_row5_col0\" class=\"data row5 col0\" >0.000004</td>\n",
              "      <td id=\"T_88c68_row5_col1\" class=\"data row5 col1\" >0.002196</td>\n",
              "      <td id=\"T_88c68_row5_col2\" class=\"data row5 col2\" >-0.000046</td>\n",
              "      <td id=\"T_88c68_row5_col3\" class=\"data row5 col3\" >-0.002278</td>\n",
              "      <td id=\"T_88c68_row5_col4\" class=\"data row5 col4\" >-0.000088</td>\n",
              "      <td id=\"T_88c68_row5_col5\" class=\"data row5 col5\" >1.000000</td>\n",
              "      <td id=\"T_88c68_row5_col6\" class=\"data row5 col6\" >0.005118</td>\n",
              "      <td id=\"T_88c68_row5_col7\" class=\"data row5 col7\" >-0.001529</td>\n",
              "      <td id=\"T_88c68_row5_col8\" class=\"data row5 col8\" >-0.002539</td>\n",
              "    </tr>\n",
              "    <tr>\n",
              "      <th id=\"T_88c68_level0_row6\" class=\"row_heading level0 row6\" >qtd_restr</th>\n",
              "      <td id=\"T_88c68_row6_col0\" class=\"data row6 col0\" >-0.002301</td>\n",
              "      <td id=\"T_88c68_row6_col1\" class=\"data row6 col1\" >0.114967</td>\n",
              "      <td id=\"T_88c68_row6_col2\" class=\"data row6 col2\" >-0.000860</td>\n",
              "      <td id=\"T_88c68_row6_col3\" class=\"data row6 col3\" >-0.103882</td>\n",
              "      <td id=\"T_88c68_row6_col4\" class=\"data row6 col4\" >-0.000059</td>\n",
              "      <td id=\"T_88c68_row6_col5\" class=\"data row6 col5\" >0.005118</td>\n",
              "      <td id=\"T_88c68_row6_col6\" class=\"data row6 col6\" >1.000000</td>\n",
              "      <td id=\"T_88c68_row6_col7\" class=\"data row6 col7\" >0.089440</td>\n",
              "      <td id=\"T_88c68_row6_col8\" class=\"data row6 col8\" >-0.316344</td>\n",
              "    </tr>\n",
              "    <tr>\n",
              "      <th id=\"T_88c68_level0_row7\" class=\"row_heading level0 row7\" >vlr_renda</th>\n",
              "      <td id=\"T_88c68_row7_col0\" class=\"data row7 col0\" >-0.000855</td>\n",
              "      <td id=\"T_88c68_row7_col1\" class=\"data row7 col1\" >0.474466</td>\n",
              "      <td id=\"T_88c68_row7_col2\" class=\"data row7 col2\" >0.000204</td>\n",
              "      <td id=\"T_88c68_row7_col3\" class=\"data row7 col3\" >0.145935</td>\n",
              "      <td id=\"T_88c68_row7_col4\" class=\"data row7 col4\" >0.001665</td>\n",
              "      <td id=\"T_88c68_row7_col5\" class=\"data row7 col5\" >-0.001529</td>\n",
              "      <td id=\"T_88c68_row7_col6\" class=\"data row7 col6\" >0.089440</td>\n",
              "      <td id=\"T_88c68_row7_col7\" class=\"data row7 col7\" >1.000000</td>\n",
              "      <td id=\"T_88c68_row7_col8\" class=\"data row7 col8\" >0.065169</td>\n",
              "    </tr>\n",
              "    <tr>\n",
              "      <th id=\"T_88c68_level0_row8\" class=\"row_heading level0 row8\" >ind_novo_cli</th>\n",
              "      <td id=\"T_88c68_row8_col0\" class=\"data row8 col0\" >-0.005114</td>\n",
              "      <td id=\"T_88c68_row8_col1\" class=\"data row8 col1\" >0.028897</td>\n",
              "      <td id=\"T_88c68_row8_col2\" class=\"data row8 col2\" >0.004194</td>\n",
              "      <td id=\"T_88c68_row8_col3\" class=\"data row8 col3\" >0.618704</td>\n",
              "      <td id=\"T_88c68_row8_col4\" class=\"data row8 col4\" >-0.001255</td>\n",
              "      <td id=\"T_88c68_row8_col5\" class=\"data row8 col5\" >-0.002539</td>\n",
              "      <td id=\"T_88c68_row8_col6\" class=\"data row8 col6\" >-0.316344</td>\n",
              "      <td id=\"T_88c68_row8_col7\" class=\"data row8 col7\" >0.065169</td>\n",
              "      <td id=\"T_88c68_row8_col8\" class=\"data row8 col8\" >1.000000</td>\n",
              "    </tr>\n",
              "  </tbody>\n",
              "</table>\n"
            ]
          },
          "metadata": {},
          "execution_count": 6
        }
      ],
      "source": [
        "##Aqui nós iremos gerar uma matriz que indica a porcentagem de correlação entre os atributos\n",
        "matriz_corr = not_client.corr().style.background_gradient(cmap='coolwarm')\n",
        "matriz_corr"
      ]
    },
    {
      "cell_type": "code",
      "execution_count": null,
      "metadata": {
        "colab": {
          "base_uri": "https://localhost:8080/",
          "height": 332
        },
        "id": "KwJ92nL84GJI",
        "outputId": "6e9af50a-d9e6-48a5-a277-ed6f3891b8dc"
      },
      "outputs": [
        {
          "output_type": "execute_result",
          "data": {
            "text/plain": [
              "<pandas.io.formats.style.Styler at 0x7f1db5ef52d0>"
            ],
            "text/html": [
              "<style type=\"text/css\">\n",
              "#T_3fead_row0_col0 {\n",
              "  background-color: #b40426;\n",
              "  color: #f1f1f1;\n",
              "}\n",
              "#T_3fead_row1_col0 {\n",
              "  background-color: #f4c6af;\n",
              "  color: #000000;\n",
              "}\n",
              "#T_3fead_row2_col0 {\n",
              "  background-color: #a3c2fe;\n",
              "  color: #000000;\n",
              "}\n",
              "#T_3fead_row3_col0 {\n",
              "  background-color: #4e68d8;\n",
              "  color: #f1f1f1;\n",
              "}\n",
              "#T_3fead_row4_col0 {\n",
              "  background-color: #4358cb;\n",
              "  color: #f1f1f1;\n",
              "}\n",
              "#T_3fead_row5_col0, #T_3fead_row6_col0, #T_3fead_row7_col0, #T_3fead_row8_col0 {\n",
              "  background-color: #3b4cc0;\n",
              "  color: #f1f1f1;\n",
              "}\n",
              "</style>\n",
              "<table id=\"T_3fead_\" class=\"dataframe\">\n",
              "  <thead>\n",
              "    <tr>\n",
              "      <th class=\"blank level0\" >&nbsp;</th>\n",
              "      <th class=\"col_heading level0 col0\" >ind_novo_cli</th>\n",
              "    </tr>\n",
              "  </thead>\n",
              "  <tbody>\n",
              "    <tr>\n",
              "      <th id=\"T_3fead_level0_row0\" class=\"row_heading level0 row0\" >ind_novo_cli</th>\n",
              "      <td id=\"T_3fead_row0_col0\" class=\"data row0 col0\" >1.000000</td>\n",
              "    </tr>\n",
              "    <tr>\n",
              "      <th id=\"T_3fead_level0_row1\" class=\"row_heading level0 row1\" >vlr_score</th>\n",
              "      <td id=\"T_3fead_row1_col0\" class=\"data row1 col0\" >0.618704</td>\n",
              "    </tr>\n",
              "    <tr>\n",
              "      <th id=\"T_3fead_level0_row2\" class=\"row_heading level0 row2\" >qtd_restr</th>\n",
              "      <td id=\"T_3fead_row2_col0\" class=\"data row2 col0\" >0.316344</td>\n",
              "    </tr>\n",
              "    <tr>\n",
              "      <th id=\"T_3fead_level0_row3\" class=\"row_heading level0 row3\" >vlr_renda</th>\n",
              "      <td id=\"T_3fead_row3_col0\" class=\"data row3 col0\" >0.065169</td>\n",
              "    </tr>\n",
              "    <tr>\n",
              "      <th id=\"T_3fead_level0_row4\" class=\"row_heading level0 row4\" >vlr_credito</th>\n",
              "      <td id=\"T_3fead_row4_col0\" class=\"data row4 col0\" >0.028897</td>\n",
              "    </tr>\n",
              "    <tr>\n",
              "      <th id=\"T_3fead_level0_row5\" class=\"row_heading level0 row5\" >Unnamed: 0</th>\n",
              "      <td id=\"T_3fead_row5_col0\" class=\"data row5 col0\" >0.005114</td>\n",
              "    </tr>\n",
              "    <tr>\n",
              "      <th id=\"T_3fead_level0_row6\" class=\"row_heading level0 row6\" >num_atend_atrs</th>\n",
              "      <td id=\"T_3fead_row6_col0\" class=\"data row6 col0\" >0.004194</td>\n",
              "    </tr>\n",
              "    <tr>\n",
              "      <th id=\"T_3fead_level0_row7\" class=\"row_heading level0 row7\" >qtd_reclm</th>\n",
              "      <td id=\"T_3fead_row7_col0\" class=\"data row7 col0\" >0.002539</td>\n",
              "    </tr>\n",
              "    <tr>\n",
              "      <th id=\"T_3fead_level0_row8\" class=\"row_heading level0 row8\" >num_atend</th>\n",
              "      <td id=\"T_3fead_row8_col0\" class=\"data row8 col0\" >0.001255</td>\n",
              "    </tr>\n",
              "  </tbody>\n",
              "</table>\n"
            ]
          },
          "metadata": {},
          "execution_count": 7
        }
      ],
      "source": [
        "##Aqui nós iremos listar as melhores correlação para a nossa resposta de engajado ou não\n",
        "\n",
        "target_corr = matriz_corr.data.ind_novo_cli\n",
        "df_corr = target_corr.abs().sort_values(ascending=False).to_frame().style.background_gradient(cmap='coolwarm')\n",
        "df_corr"
      ]
    },
    {
      "cell_type": "markdown",
      "metadata": {
        "id": "GGOX7e5djzIz"
      },
      "source": [
        "#Testagem de hiperparâmetros manualmente nos modelos Novo cliente\n",
        "\n",
        "\n",
        "\n",
        "\n",
        "\n",
        "\n",
        "\n",
        "\n",
        "\n"
      ]
    },
    {
      "cell_type": "markdown",
      "metadata": {
        "id": "3CuSz6b4OstP"
      },
      "source": [
        "##Treinamento Teste"
      ]
    },
    {
      "cell_type": "code",
      "execution_count": null,
      "metadata": {
        "id": "vygOZnWBOwnr"
      },
      "outputs": [],
      "source": [
        "from sklearn.model_selection import train_test_split\n",
        "\n",
        "cols = ['vlr_credito', 'vlr_renda', 'qtd_restr','vlr_score']\n",
        "\n",
        "# Dividindo x e y\n",
        "x = not_client[cols]\n",
        "y = not_client['ind_novo_cli']\n",
        "\n",
        "# Dividindo dados para treino e dados para teste\n",
        "x_train, x_test, y_train, y_test = train_test_split(x, y, test_size = 0.4, random_state = 50)"
      ]
    },
    {
      "cell_type": "code",
      "execution_count": null,
      "metadata": {
        "colab": {
          "base_uri": "https://localhost:8080/"
        },
        "id": "M7hYGBOmD7FB",
        "outputId": "17dc629e-de2f-45ea-b3d7-e0d350aecf04"
      },
      "outputs": [
        {
          "output_type": "execute_result",
          "data": {
            "text/plain": [
              "   vlr_credito  vlr_renda  qtd_restr  vlr_score\n",
              "0     0.000100   0.002846    0.00000   1.607560\n",
              "1     0.000000   0.020181    0.00463  -0.876154\n",
              "2     0.000220   0.001294    0.00463  -0.778900\n",
              "3     0.000565   0.016300    0.00000   2.198564\n",
              "4     0.000000   0.004916    0.00000  -1.003332"
            ],
            "text/html": [
              "\n",
              "  <div id=\"df-b226afa2-5c18-4f4f-9e66-d8d52bbc5f91\">\n",
              "    <div class=\"colab-df-container\">\n",
              "      <div>\n",
              "<style scoped>\n",
              "    .dataframe tbody tr th:only-of-type {\n",
              "        vertical-align: middle;\n",
              "    }\n",
              "\n",
              "    .dataframe tbody tr th {\n",
              "        vertical-align: top;\n",
              "    }\n",
              "\n",
              "    .dataframe thead th {\n",
              "        text-align: right;\n",
              "    }\n",
              "</style>\n",
              "<table border=\"1\" class=\"dataframe\">\n",
              "  <thead>\n",
              "    <tr style=\"text-align: right;\">\n",
              "      <th></th>\n",
              "      <th>vlr_credito</th>\n",
              "      <th>vlr_renda</th>\n",
              "      <th>qtd_restr</th>\n",
              "      <th>vlr_score</th>\n",
              "    </tr>\n",
              "  </thead>\n",
              "  <tbody>\n",
              "    <tr>\n",
              "      <th>0</th>\n",
              "      <td>0.000100</td>\n",
              "      <td>0.002846</td>\n",
              "      <td>0.00000</td>\n",
              "      <td>1.607560</td>\n",
              "    </tr>\n",
              "    <tr>\n",
              "      <th>1</th>\n",
              "      <td>0.000000</td>\n",
              "      <td>0.020181</td>\n",
              "      <td>0.00463</td>\n",
              "      <td>-0.876154</td>\n",
              "    </tr>\n",
              "    <tr>\n",
              "      <th>2</th>\n",
              "      <td>0.000220</td>\n",
              "      <td>0.001294</td>\n",
              "      <td>0.00463</td>\n",
              "      <td>-0.778900</td>\n",
              "    </tr>\n",
              "    <tr>\n",
              "      <th>3</th>\n",
              "      <td>0.000565</td>\n",
              "      <td>0.016300</td>\n",
              "      <td>0.00000</td>\n",
              "      <td>2.198564</td>\n",
              "    </tr>\n",
              "    <tr>\n",
              "      <th>4</th>\n",
              "      <td>0.000000</td>\n",
              "      <td>0.004916</td>\n",
              "      <td>0.00000</td>\n",
              "      <td>-1.003332</td>\n",
              "    </tr>\n",
              "  </tbody>\n",
              "</table>\n",
              "</div>\n",
              "      <button class=\"colab-df-convert\" onclick=\"convertToInteractive('df-b226afa2-5c18-4f4f-9e66-d8d52bbc5f91')\"\n",
              "              title=\"Convert this dataframe to an interactive table.\"\n",
              "              style=\"display:none;\">\n",
              "        \n",
              "  <svg xmlns=\"http://www.w3.org/2000/svg\" height=\"24px\"viewBox=\"0 0 24 24\"\n",
              "       width=\"24px\">\n",
              "    <path d=\"M0 0h24v24H0V0z\" fill=\"none\"/>\n",
              "    <path d=\"M18.56 5.44l.94 2.06.94-2.06 2.06-.94-2.06-.94-.94-2.06-.94 2.06-2.06.94zm-11 1L8.5 8.5l.94-2.06 2.06-.94-2.06-.94L8.5 2.5l-.94 2.06-2.06.94zm10 10l.94 2.06.94-2.06 2.06-.94-2.06-.94-.94-2.06-.94 2.06-2.06.94z\"/><path d=\"M17.41 7.96l-1.37-1.37c-.4-.4-.92-.59-1.43-.59-.52 0-1.04.2-1.43.59L10.3 9.45l-7.72 7.72c-.78.78-.78 2.05 0 2.83L4 21.41c.39.39.9.59 1.41.59.51 0 1.02-.2 1.41-.59l7.78-7.78 2.81-2.81c.8-.78.8-2.07 0-2.86zM5.41 20L4 18.59l7.72-7.72 1.47 1.35L5.41 20z\"/>\n",
              "  </svg>\n",
              "      </button>\n",
              "      \n",
              "  <style>\n",
              "    .colab-df-container {\n",
              "      display:flex;\n",
              "      flex-wrap:wrap;\n",
              "      gap: 12px;\n",
              "    }\n",
              "\n",
              "    .colab-df-convert {\n",
              "      background-color: #E8F0FE;\n",
              "      border: none;\n",
              "      border-radius: 50%;\n",
              "      cursor: pointer;\n",
              "      display: none;\n",
              "      fill: #1967D2;\n",
              "      height: 32px;\n",
              "      padding: 0 0 0 0;\n",
              "      width: 32px;\n",
              "    }\n",
              "\n",
              "    .colab-df-convert:hover {\n",
              "      background-color: #E2EBFA;\n",
              "      box-shadow: 0px 1px 2px rgba(60, 64, 67, 0.3), 0px 1px 3px 1px rgba(60, 64, 67, 0.15);\n",
              "      fill: #174EA6;\n",
              "    }\n",
              "\n",
              "    [theme=dark] .colab-df-convert {\n",
              "      background-color: #3B4455;\n",
              "      fill: #D2E3FC;\n",
              "    }\n",
              "\n",
              "    [theme=dark] .colab-df-convert:hover {\n",
              "      background-color: #434B5C;\n",
              "      box-shadow: 0px 1px 3px 1px rgba(0, 0, 0, 0.15);\n",
              "      filter: drop-shadow(0px 1px 2px rgba(0, 0, 0, 0.3));\n",
              "      fill: #FFFFFF;\n",
              "    }\n",
              "  </style>\n",
              "\n",
              "      <script>\n",
              "        const buttonEl =\n",
              "          document.querySelector('#df-b226afa2-5c18-4f4f-9e66-d8d52bbc5f91 button.colab-df-convert');\n",
              "        buttonEl.style.display =\n",
              "          google.colab.kernel.accessAllowed ? 'block' : 'none';\n",
              "\n",
              "        async function convertToInteractive(key) {\n",
              "          const element = document.querySelector('#df-b226afa2-5c18-4f4f-9e66-d8d52bbc5f91');\n",
              "          const dataTable =\n",
              "            await google.colab.kernel.invokeFunction('convertToInteractive',\n",
              "                                                     [key], {});\n",
              "          if (!dataTable) return;\n",
              "\n",
              "          const docLinkHtml = 'Like what you see? Visit the ' +\n",
              "            '<a target=\"_blank\" href=https://colab.research.google.com/notebooks/data_table.ipynb>data table notebook</a>'\n",
              "            + ' to learn more about interactive tables.';\n",
              "          element.innerHTML = '';\n",
              "          dataTable['output_type'] = 'display_data';\n",
              "          await google.colab.output.renderOutput(dataTable, element);\n",
              "          const docLink = document.createElement('div');\n",
              "          docLink.innerHTML = docLinkHtml;\n",
              "          element.appendChild(docLink);\n",
              "        }\n",
              "      </script>\n",
              "    </div>\n",
              "  </div>\n",
              "  "
            ]
          },
          "metadata": {},
          "execution_count": 9
        }
      ],
      "source": [
        "not_client[cols].head()"
      ]
    },
    {
      "cell_type": "markdown",
      "metadata": {
        "id": "UUr6DkgvDkRj"
      },
      "source": [
        "##Árvore de decisão Parâmetro 1"
      ]
    },
    {
      "cell_type": "code",
      "execution_count": null,
      "metadata": {
        "colab": {
          "base_uri": "https://localhost:8080/"
        },
        "id": "Gt9I27vVShAy",
        "outputId": "b5d7b8b4-9e4c-46f9-87b7-0aa0f0008b78"
      },
      "outputs": [
        {
          "output_type": "execute_result",
          "data": {
            "text/plain": [
              "DecisionTreeClassifier(criterion='entropy', random_state=42)"
            ]
          },
          "metadata": {},
          "execution_count": 10
        }
      ],
      "source": [
        "#treinando o modelo\n",
        "from sklearn.model_selection import train_test_split\n",
        "from sklearn.tree import DecisionTreeClassifier\n",
        "\n",
        "avd = DecisionTreeClassifier(criterion='entropy', random_state=42)\n",
        "avd.fit(x_train, y_train)"
      ]
    },
    {
      "cell_type": "code",
      "execution_count": null,
      "metadata": {
        "colab": {
          "base_uri": "https://localhost:8080/"
        },
        "id": "7DpjbLq7Slg3",
        "outputId": "7c8c95d0-8a44-410c-af04-37cc4fea9c58"
      },
      "outputs": [
        {
          "output_type": "execute_result",
          "data": {
            "text/plain": [
              "array([0., 0., 0., ..., 0., 0., 0.])"
            ]
          },
          "metadata": {},
          "execution_count": 11
        }
      ],
      "source": [
        "#predizendo valores\n",
        "y_pred_avd = avd.predict(x_test)\n",
        "y_pred_avd"
      ]
    },
    {
      "cell_type": "markdown",
      "metadata": {
        "id": "4c3zaL5DSyqJ"
      },
      "source": [
        "###Métricas"
      ]
    },
    {
      "cell_type": "markdown",
      "metadata": {
        "id": "T3YJgczvTLTb"
      },
      "source": [
        "Acurácia"
      ]
    },
    {
      "cell_type": "code",
      "execution_count": null,
      "metadata": {
        "colab": {
          "base_uri": "https://localhost:8080/"
        },
        "id": "RFGTNR05S1kB",
        "outputId": "95736942-562c-4e31-a2eb-5e83faffcd0f"
      },
      "outputs": [
        {
          "output_type": "execute_result",
          "data": {
            "text/plain": [
              "1.0"
            ]
          },
          "metadata": {},
          "execution_count": 12
        }
      ],
      "source": [
        "#acurácia das predições\n",
        "from sklearn.metrics import accuracy_score\n",
        "accuracy_score(y_test, y_pred_avd)"
      ]
    },
    {
      "cell_type": "markdown",
      "metadata": {
        "id": "cZ_T_WxcTNky"
      },
      "source": [
        "Precisão"
      ]
    },
    {
      "cell_type": "code",
      "execution_count": null,
      "metadata": {
        "colab": {
          "base_uri": "https://localhost:8080/"
        },
        "id": "J0YwCh02S6oP",
        "outputId": "225a9a8f-f17f-4145-ed70-09463bfa768a"
      },
      "outputs": [
        {
          "output_type": "execute_result",
          "data": {
            "text/plain": [
              "1.0"
            ]
          },
          "metadata": {},
          "execution_count": 13
        }
      ],
      "source": [
        "#precisão das predições\n",
        "from sklearn.metrics import precision_score\n",
        "precision_score(y_test, y_pred_avd)"
      ]
    },
    {
      "cell_type": "markdown",
      "metadata": {
        "id": "VWxDsiiWTPWR"
      },
      "source": [
        "Recall"
      ]
    },
    {
      "cell_type": "code",
      "execution_count": null,
      "metadata": {
        "colab": {
          "base_uri": "https://localhost:8080/"
        },
        "id": "Hfqzd7jWTCZJ",
        "outputId": "886a35a9-c051-43e3-a37e-97d1dbe0ce24"
      },
      "outputs": [
        {
          "output_type": "execute_result",
          "data": {
            "text/plain": [
              "1.0"
            ]
          },
          "metadata": {},
          "execution_count": 14
        }
      ],
      "source": [
        "#recall das predições\n",
        "from sklearn.metrics import recall_score\n",
        "recall_score(y_test, y_pred_avd)"
      ]
    },
    {
      "cell_type": "markdown",
      "metadata": {
        "id": "VGuU9uewTecb"
      },
      "source": [
        "###Matriz de confusão"
      ]
    },
    {
      "cell_type": "code",
      "execution_count": null,
      "metadata": {
        "colab": {
          "base_uri": "https://localhost:8080/"
        },
        "id": "1FAqMJDETieu",
        "outputId": "7e94d8d8-0b1e-43eb-ff87-15b8282d916a"
      },
      "outputs": [
        {
          "output_type": "execute_result",
          "data": {
            "text/plain": [
              "<sklearn.metrics._plot.confusion_matrix.ConfusionMatrixDisplay at 0x7f1db5e3de10>"
            ]
          },
          "metadata": {},
          "execution_count": 15
        },
        {
          "output_type": "display_data",
          "data": {
            "text/plain": [
              "<Figure size 432x288 with 2 Axes>"
            ],
            "image/png": "[encoded data removed]"
          },
          "metadata": {
            "needs_background": "light"
          }
        }
      ],
      "source": [
        "#visualização dos erros e acertos da predição\n",
        "plot_confusion_matrix(avd,x_test,y_test, cmap='Blues')\n"
      ]
    },
    {
      "cell_type": "markdown",
      "metadata": {
        "id": "dGsaV_dYk3kJ"
      },
      "source": [
        "##Árvore de decisão Parâmetro 2"
      ]
    },
    {
      "cell_type": "code",
      "execution_count": null,
      "metadata": {
        "colab": {
          "base_uri": "https://localhost:8080/"
        },
        "id": "ABCQAXsyk3kK",
        "outputId": "c31a6b36-7621-4a92-be23-d8e7f6af4524"
      },
      "outputs": [
        {
          "output_type": "execute_result",
          "data": {
            "text/plain": [
              "DecisionTreeClassifier(random_state=42)"
            ]
          },
          "metadata": {},
          "execution_count": 16
        }
      ],
      "source": [
        "#treinamento do modelo\n",
        "from sklearn.model_selection import train_test_split\n",
        "from sklearn.tree import DecisionTreeClassifier\n",
        "\n",
        "avd = DecisionTreeClassifier(criterion='gini', random_state=42)\n",
        "avd.fit(x_train, y_train)"
      ]
    },
    {
      "cell_type": "code",
      "execution_count": null,
      "metadata": {
        "colab": {
          "base_uri": "https://localhost:8080/"
        },
        "id": "-ekEtrMyk3kK",
        "outputId": "e352c7b9-0bbb-4de6-8d3f-9647694c61e8"
      },
      "outputs": [
        {
          "output_type": "execute_result",
          "data": {
            "text/plain": [
              "array([0., 0., 0., ..., 0., 0., 0.])"
            ]
          },
          "metadata": {},
          "execution_count": 17
        }
      ],
      "source": [
        "#predição do modelo\n",
        "y_pred_avd = avd.predict(x_test)\n",
        "y_pred_avd"
      ]
    },
    {
      "cell_type": "markdown",
      "metadata": {
        "id": "tUO-1C0Lk3kK"
      },
      "source": [
        "###Métricas"
      ]
    },
    {
      "cell_type": "markdown",
      "metadata": {
        "id": "nfPMacZRk3kK"
      },
      "source": [
        "Acurácia"
      ]
    },
    {
      "cell_type": "code",
      "execution_count": null,
      "metadata": {
        "colab": {
          "base_uri": "https://localhost:8080/"
        },
        "id": "4GQO-XMNk3kK",
        "outputId": "880bbeff-03e6-4b75-ec85-586be38e0a96"
      },
      "outputs": [
        {
          "output_type": "execute_result",
          "data": {
            "text/plain": [
              "1.0"
            ]
          },
          "metadata": {},
          "execution_count": 18
        }
      ],
      "source": [
        "#acurácia do modelo\n",
        "from sklearn.metrics import accuracy_score\n",
        "accuracy_score(y_test, y_pred_avd)"
      ]
    },
    {
      "cell_type": "markdown",
      "metadata": {
        "id": "yKxF84Jck3kL"
      },
      "source": [
        "Precisão"
      ]
    },
    {
      "cell_type": "code",
      "execution_count": null,
      "metadata": {
        "colab": {
          "base_uri": "https://localhost:8080/"
        },
        "id": "YzUFA7oSk3kL",
        "outputId": "a787aa72-1846-401d-bebd-2fffa53bec13"
      },
      "outputs": [
        {
          "output_type": "execute_result",
          "data": {
            "text/plain": [
              "1.0"
            ]
          },
          "metadata": {},
          "execution_count": 19
        }
      ],
      "source": [
        "#precisão do modelo\n",
        "from sklearn.metrics import precision_score\n",
        "precision_score(y_test, y_pred_avd)"
      ]
    },
    {
      "cell_type": "markdown",
      "metadata": {
        "id": "u6r2s77Vk3kL"
      },
      "source": [
        "\n",
        "Recall"
      ]
    },
    {
      "cell_type": "code",
      "execution_count": null,
      "metadata": {
        "colab": {
          "base_uri": "https://localhost:8080/"
        },
        "id": "1HzIvsnBk3kL",
        "outputId": "d0fabb10-9dfb-458e-a897-8bcb4a563b3c"
      },
      "outputs": [
        {
          "output_type": "execute_result",
          "data": {
            "text/plain": [
              "1.0"
            ]
          },
          "metadata": {},
          "execution_count": 20
        }
      ],
      "source": [
        "#recall do modelo\n",
        "from sklearn.metrics import recall_score\n",
        "recall_score(y_test, y_pred_avd)"
      ]
    },
    {
      "cell_type": "markdown",
      "metadata": {
        "id": "s11coLG_k3kM"
      },
      "source": [
        "###Matriz de confusão"
      ]
    },
    {
      "cell_type": "code",
      "execution_count": null,
      "metadata": {
        "colab": {
          "base_uri": "https://localhost:8080/"
        },
        "id": "QrRjEzRnk3kM",
        "outputId": "376e3577-ad5b-4cf2-ea91-23a671f5bb20"
      },
      "outputs": [
        {
          "output_type": "execute_result",
          "data": {
            "text/plain": [
              "<sklearn.metrics._plot.confusion_matrix.ConfusionMatrixDisplay at 0x7f1db5d5bc50>"
            ]
          },
          "metadata": {},
          "execution_count": 21
        },
        {
          "output_type": "display_data",
          "data": {
            "text/plain": [
              "<Figure size 432x288 with 2 Axes>"
            ],
            "image/png": "[encoded data removed]"
          },
          "metadata": {
            "needs_background": "light"
          }
        }
      ],
      "source": [
        "#visualização dos erros e acertos da predição\n",
        "plot_confusion_matrix(avd,x_test,y_test, cmap='Blues')\n"
      ]
    },
    {
      "cell_type": "markdown",
      "metadata": {
        "id": "52yyern5lGyC"
      },
      "source": [
        "##Árvore de decisão Parâmetro 3"
      ]
    },
    {
      "cell_type": "code",
      "execution_count": null,
      "metadata": {
        "colab": {
          "base_uri": "https://localhost:8080/"
        },
        "id": "QmgCxChWlGyD",
        "outputId": "fbf1b8b2-b6e0-445d-dc27-6f85384d4cc8"
      },
      "outputs": [
        {
          "output_type": "execute_result",
          "data": {
            "text/plain": [
              "DecisionTreeClassifier(criterion='entropy', max_features='auto',\n",
              "                       random_state=42)"
            ]
          },
          "metadata": {},
          "execution_count": 22
        }
      ],
      "source": [
        "#treinamento do modelo\n",
        "from sklearn.model_selection import train_test_split\n",
        "from sklearn.tree import DecisionTreeClassifier\n",
        "\n",
        "avd = DecisionTreeClassifier(criterion='entropy', max_features='auto', random_state=42)\n",
        "avd.fit(x_train, y_train)"
      ]
    },
    {
      "cell_type": "code",
      "execution_count": null,
      "metadata": {
        "colab": {
          "base_uri": "https://localhost:8080/"
        },
        "id": "IhyzfOY5lGyE",
        "outputId": "c9877e3d-d76f-44b2-8ed3-c865b02ecc41"
      },
      "outputs": [
        {
          "output_type": "execute_result",
          "data": {
            "text/plain": [
              "array([0., 0., 0., ..., 0., 0., 0.])"
            ]
          },
          "metadata": {},
          "execution_count": 23
        }
      ],
      "source": [
        "#predição do modelo\n",
        "y_pred_avd = avd.predict(x_test)\n",
        "y_pred_avd"
      ]
    },
    {
      "cell_type": "markdown",
      "metadata": {
        "id": "EZXg-LVUlGyF"
      },
      "source": [
        "###Métricas"
      ]
    },
    {
      "cell_type": "markdown",
      "metadata": {
        "id": "3zUZ7_qnlGyG"
      },
      "source": [
        "Acurácia"
      ]
    },
    {
      "cell_type": "code",
      "execution_count": null,
      "metadata": {
        "colab": {
          "base_uri": "https://localhost:8080/"
        },
        "id": "NOgPpL4IlGyG",
        "outputId": "1dc78ba7-f4c6-42c3-c29e-d9db7678bb89"
      },
      "outputs": [
        {
          "output_type": "execute_result",
          "data": {
            "text/plain": [
              "1.0"
            ]
          },
          "metadata": {},
          "execution_count": 24
        }
      ],
      "source": [
        "#acurácia do modelo\n",
        "from sklearn.metrics import accuracy_score\n",
        "accuracy_score(y_test, y_pred_avd)"
      ]
    },
    {
      "cell_type": "markdown",
      "metadata": {
        "id": "b5LOPC7hlGyG"
      },
      "source": [
        "Precisão"
      ]
    },
    {
      "cell_type": "code",
      "execution_count": null,
      "metadata": {
        "colab": {
          "base_uri": "https://localhost:8080/"
        },
        "id": "OOriKnV8lGyH",
        "outputId": "989d948e-8edb-4dd4-dd7a-0993915951ca"
      },
      "outputs": [
        {
          "output_type": "execute_result",
          "data": {
            "text/plain": [
              "1.0"
            ]
          },
          "metadata": {},
          "execution_count": 25
        }
      ],
      "source": [
        "#precisão do modelo\n",
        "from sklearn.metrics import precision_score\n",
        "precision_score(y_test, y_pred_avd)"
      ]
    },
    {
      "cell_type": "markdown",
      "metadata": {
        "id": "_Ed-XyWwlGyH"
      },
      "source": [
        "Recall"
      ]
    },
    {
      "cell_type": "code",
      "execution_count": null,
      "metadata": {
        "colab": {
          "base_uri": "https://localhost:8080/"
        },
        "id": "DrQO4k4JlGyH",
        "outputId": "9239dd84-5643-4133-9688-81fbb43d8002"
      },
      "outputs": [
        {
          "output_type": "execute_result",
          "data": {
            "text/plain": [
              "1.0"
            ]
          },
          "metadata": {},
          "execution_count": 26
        }
      ],
      "source": [
        "#recall do modelo\n",
        "from sklearn.metrics import recall_score\n",
        "recall_score(y_test, y_pred_avd)"
      ]
    },
    {
      "cell_type": "markdown",
      "metadata": {
        "id": "mbvEa_8ZlGyI"
      },
      "source": [
        "###Matriz de confusão"
      ]
    },
    {
      "cell_type": "code",
      "execution_count": null,
      "metadata": {
        "colab": {
          "base_uri": "https://localhost:8080/"
        },
        "id": "Ofc9YzG1lGyI",
        "outputId": "428e1641-90b9-4738-fe4a-c891f9d132e3"
      },
      "outputs": [
        {
          "output_type": "execute_result",
          "data": {
            "text/plain": [
              "<sklearn.metrics._plot.confusion_matrix.ConfusionMatrixDisplay at 0x7f1db586c610>"
            ]
          },
          "metadata": {},
          "execution_count": 27
        },
        {
          "output_type": "display_data",
          "data": {
            "text/plain": [
              "<Figure size 432x288 with 2 Axes>"
            ],
            "image/png": "[encoded data removed]"
          },
          "metadata": {
            "needs_background": "light"
          }
        }
      ],
      "source": [
        "#visualização dos erros e acertos da predição\n",
        "plot_confusion_matrix(avd,x_test,y_test, cmap='Blues')\n"
      ]
    },
    {
      "cell_type": "markdown",
      "metadata": {
        "id": "yR5U_XE9lIO3"
      },
      "source": [
        "##Árvore de decisão Parâmetro 4"
      ]
    },
    {
      "cell_type": "code",
      "execution_count": null,
      "metadata": {
        "colab": {
          "base_uri": "https://localhost:8080/"
        },
        "id": "PKWj3JvnlIO3",
        "outputId": "80606b5b-8f40-44ee-d83e-ed53e832a94c"
      },
      "outputs": [
        {
          "output_type": "execute_result",
          "data": {
            "text/plain": [
              "DecisionTreeClassifier(criterion='entropy', max_features='log2',\n",
              "                       random_state=42)"
            ]
          },
          "metadata": {},
          "execution_count": 28
        }
      ],
      "source": [
        "#treinamento do  modelo\n",
        "from sklearn.model_selection import train_test_split\n",
        "from sklearn.tree import DecisionTreeClassifier\n",
        "\n",
        "avd = DecisionTreeClassifier(criterion='entropy',max_features='log2', random_state=42)\n",
        "avd.fit(x_train, y_train)"
      ]
    },
    {
      "cell_type": "code",
      "execution_count": null,
      "metadata": {
        "colab": {
          "base_uri": "https://localhost:8080/"
        },
        "id": "zM4K_iVolIO4",
        "outputId": "a2996e16-ce6f-4daf-e177-9e9bdd83bdcb"
      },
      "outputs": [
        {
          "output_type": "execute_result",
          "data": {
            "text/plain": [
              "array([0., 0., 0., ..., 0., 0., 0.])"
            ]
          },
          "metadata": {},
          "execution_count": 29
        }
      ],
      "source": [
        "#predição do modelo\n",
        "y_pred_avd = avd.predict(x_test)\n",
        "y_pred_avd"
      ]
    },
    {
      "cell_type": "markdown",
      "metadata": {
        "id": "fqfd_aijlIO4"
      },
      "source": [
        "###Métricas"
      ]
    },
    {
      "cell_type": "markdown",
      "metadata": {
        "id": "2MvtBuW9lIO4"
      },
      "source": [
        "Acurácia"
      ]
    },
    {
      "cell_type": "code",
      "execution_count": null,
      "metadata": {
        "colab": {
          "base_uri": "https://localhost:8080/"
        },
        "id": "pT3ly0oflIO4",
        "outputId": "d4a37eff-70db-42ba-f224-772f7463df17"
      },
      "outputs": [
        {
          "output_type": "execute_result",
          "data": {
            "text/plain": [
              "1.0"
            ]
          },
          "metadata": {},
          "execution_count": 30
        }
      ],
      "source": [
        "#acurácia do modelo\n",
        "from sklearn.metrics import accuracy_score\n",
        "accuracy_score(y_test, y_pred_avd)"
      ]
    },
    {
      "cell_type": "markdown",
      "metadata": {
        "id": "s8fK0TX9lIO4"
      },
      "source": [
        "Precisão"
      ]
    },
    {
      "cell_type": "code",
      "execution_count": null,
      "metadata": {
        "colab": {
          "base_uri": "https://localhost:8080/"
        },
        "id": "QJf0lwyDlIO4",
        "outputId": "53e5904b-0775-4122-d205-b8b78c5981c4"
      },
      "outputs": [
        {
          "output_type": "execute_result",
          "data": {
            "text/plain": [
              "1.0"
            ]
          },
          "metadata": {},
          "execution_count": 31
        }
      ],
      "source": [
        "#predição do modelo\n",
        "from sklearn.metrics import precision_score\n",
        "precision_score(y_test, y_pred_avd)"
      ]
    },
    {
      "cell_type": "markdown",
      "metadata": {
        "id": "CIfkDQtSlIO5"
      },
      "source": [
        "Recall"
      ]
    },
    {
      "cell_type": "code",
      "execution_count": null,
      "metadata": {
        "colab": {
          "base_uri": "https://localhost:8080/"
        },
        "id": "sV2AlxQglIO5",
        "outputId": "e2ccb55a-432e-418c-cd21-088827adbc38"
      },
      "outputs": [
        {
          "output_type": "execute_result",
          "data": {
            "text/plain": [
              "1.0"
            ]
          },
          "metadata": {},
          "execution_count": 32
        }
      ],
      "source": [
        "#recall do modelo\n",
        "from sklearn.metrics import recall_score\n",
        "recall_score(y_test, y_pred_avd)"
      ]
    },
    {
      "cell_type": "markdown",
      "metadata": {
        "id": "KtnyflBQlIO5"
      },
      "source": [
        "###Matriz de confusão"
      ]
    },
    {
      "cell_type": "code",
      "execution_count": null,
      "metadata": {
        "colab": {
          "base_uri": "https://localhost:8080/"
        },
        "id": "pVknQpnglIO5",
        "outputId": "e4e20618-8f25-4d2d-9175-cec2b62c3ed5"
      },
      "outputs": [
        {
          "output_type": "execute_result",
          "data": {
            "text/plain": [
              "<sklearn.metrics._plot.confusion_matrix.ConfusionMatrixDisplay at 0x7f1dd32bcbd0>"
            ]
          },
          "metadata": {},
          "execution_count": 33
        },
        {
          "output_type": "display_data",
          "data": {
            "text/plain": [
              "<Figure size 432x288 with 2 Axes>"
            ],
            "image/png": "[encoded data removed]"
          },
          "metadata": {
            "needs_background": "light"
          }
        }
      ],
      "source": [
        "#visualização dos erros e acertos da predição\n",
        "plot_confusion_matrix(avd,x_test,y_test, cmap='Blues')\n"
      ]
    },
    {
      "cell_type": "markdown",
      "metadata": {
        "id": "Y7N2wUwTlJ2s"
      },
      "source": [
        "##Árvore de decisão Parâmetro 5"
      ]
    },
    {
      "cell_type": "code",
      "execution_count": null,
      "metadata": {
        "colab": {
          "base_uri": "https://localhost:8080/"
        },
        "id": "hg8tJKV7lJ2s",
        "outputId": "3322b071-6041-43b6-b924-c8fb2460842f"
      },
      "outputs": [
        {
          "output_type": "execute_result",
          "data": {
            "text/plain": [
              "DecisionTreeClassifier(criterion='entropy', max_features='sqrt',\n",
              "                       random_state=42)"
            ]
          },
          "metadata": {},
          "execution_count": 34
        }
      ],
      "source": [
        "#treinamento do modelo\n",
        "from sklearn.model_selection import train_test_split\n",
        "from sklearn.tree import DecisionTreeClassifier\n",
        "\n",
        "avd = DecisionTreeClassifier(criterion='entropy',max_features='sqrt', random_state=42)\n",
        "avd.fit(x_train, y_train)"
      ]
    },
    {
      "cell_type": "code",
      "execution_count": null,
      "metadata": {
        "colab": {
          "base_uri": "https://localhost:8080/"
        },
        "id": "d7LxYz22lJ2t",
        "outputId": "2a1271a6-774c-4ebf-be10-5d9f2d7abb32"
      },
      "outputs": [
        {
          "output_type": "execute_result",
          "data": {
            "text/plain": [
              "array([0., 0., 0., ..., 0., 0., 0.])"
            ]
          },
          "metadata": {},
          "execution_count": 35
        }
      ],
      "source": [
        "#prediçaõ do modelo\n",
        "y_pred_avd = avd.predict(x_test)\n",
        "y_pred_avd"
      ]
    },
    {
      "cell_type": "markdown",
      "metadata": {
        "id": "J_W8Eh-RlJ2t"
      },
      "source": [
        "###Métricas"
      ]
    },
    {
      "cell_type": "markdown",
      "metadata": {
        "id": "gzXLD_hmlJ2t"
      },
      "source": [
        "Acurácia"
      ]
    },
    {
      "cell_type": "code",
      "execution_count": null,
      "metadata": {
        "colab": {
          "base_uri": "https://localhost:8080/"
        },
        "id": "vTms2ftLlJ2t",
        "outputId": "6df50f67-00e8-4cd2-a9f5-99919aa44ad3"
      },
      "outputs": [
        {
          "output_type": "execute_result",
          "data": {
            "text/plain": [
              "1.0"
            ]
          },
          "metadata": {},
          "execution_count": 36
        }
      ],
      "source": [
        "#acurácia do modelo\n",
        "from sklearn.metrics import accuracy_score\n",
        "accuracy_score(y_test, y_pred_avd)"
      ]
    },
    {
      "cell_type": "markdown",
      "metadata": {
        "id": "yJW-Ey0slJ2t"
      },
      "source": [
        "Precisão"
      ]
    },
    {
      "cell_type": "code",
      "execution_count": null,
      "metadata": {
        "colab": {
          "base_uri": "https://localhost:8080/"
        },
        "id": "-qHT6hvOlJ2t",
        "outputId": "19035b00-47b9-43ee-f1bf-f1b39e9b20b9"
      },
      "outputs": [
        {
          "output_type": "execute_result",
          "data": {
            "text/plain": [
              "1.0"
            ]
          },
          "metadata": {},
          "execution_count": 37
        }
      ],
      "source": [
        "#predição do modelo\n",
        "from sklearn.metrics import precision_score\n",
        "precision_score(y_test, y_pred_avd)"
      ]
    },
    {
      "cell_type": "markdown",
      "metadata": {
        "id": "p0Mj4uerlJ2t"
      },
      "source": [
        "Recall"
      ]
    },
    {
      "cell_type": "code",
      "execution_count": null,
      "metadata": {
        "colab": {
          "base_uri": "https://localhost:8080/"
        },
        "id": "mZDCHaRVlJ2u",
        "outputId": "5d110ee6-71b4-4895-8466-86328dae33bf"
      },
      "outputs": [
        {
          "output_type": "execute_result",
          "data": {
            "text/plain": [
              "1.0"
            ]
          },
          "metadata": {},
          "execution_count": 38
        }
      ],
      "source": [
        "#recall do modelo\n",
        "from sklearn.metrics import recall_score\n",
        "recall_score(y_test, y_pred_avd)"
      ]
    },
    {
      "cell_type": "markdown",
      "metadata": {
        "id": "zKsptiNalJ2u"
      },
      "source": [
        "###Matriz de confusão"
      ]
    },
    {
      "cell_type": "code",
      "execution_count": null,
      "metadata": {
        "colab": {
          "base_uri": "https://localhost:8080/"
        },
        "id": "CD0RA8ZDlJ2u",
        "outputId": "b1c9a21a-d366-4c2e-800f-7e87c1bb2adf"
      },
      "outputs": [
        {
          "output_type": "execute_result",
          "data": {
            "text/plain": [
              "<sklearn.metrics._plot.confusion_matrix.ConfusionMatrixDisplay at 0x7f1db56d1cd0>"
            ]
          },
          "metadata": {},
          "execution_count": 39
        },
        {
          "output_type": "display_data",
          "data": {
            "text/plain": [
              "<Figure size 432x288 with 2 Axes>"
            ],
            "image/png": "[encoded data removed]"
          },
          "metadata": {
            "needs_background": "light"
          }
        }
      ],
      "source": [
        "#visualização dos erros e acertos da predição\n",
        "plot_confusion_matrix(avd,x_test,y_test, cmap='Blues')\n"
      ]
    },
    {
      "cell_type": "markdown",
      "metadata": {
        "id": "zCebOlteIHvx"
      },
      "source": [
        "###De acordo com os parâmetros utilizados, todos os resultados analisados foram iguais, pois há um vazamento de dados a partir do vlr_score.\n",
        "#### "
      ]
    },
    {
      "cell_type": "markdown",
      "metadata": {
        "id": "JBbo9NueQ2c7"
      },
      "source": [
        "##Random Forest Parâmetro 1\n"
      ]
    },
    {
      "cell_type": "code",
      "execution_count": null,
      "metadata": {
        "colab": {
          "base_uri": "https://localhost:8080/"
        },
        "id": "PYI_gLXAQ5rs",
        "outputId": "16dd1f48-dcd6-4b38-f8ea-a0683881be7a"
      },
      "outputs": [
        {
          "output_type": "execute_result",
          "data": {
            "text/plain": [
              "RandomForestClassifier(criterion='entropy', max_features='sqrt',\n",
              "                       random_state=42)"
            ]
          },
          "metadata": {},
          "execution_count": 40
        }
      ],
      "source": [
        "#treinamento do modelo\n",
        "from sklearn.ensemble import RandomForestClassifier\n",
        "from sklearn.metrics import plot_confusion_matrix\n",
        "\n",
        "rdf = RandomForestClassifier(criterion='entropy',max_features='sqrt', random_state=42)\n",
        "rdf.fit(x_train, y_train)\n"
      ]
    },
    {
      "cell_type": "code",
      "execution_count": null,
      "metadata": {
        "id": "Z-SN0VCyRAyd"
      },
      "outputs": [],
      "source": [
        "#predição do modelo\n",
        "y_pred_rdf = rdf.predict(x_test)"
      ]
    },
    {
      "cell_type": "markdown",
      "metadata": {
        "id": "79ppsZbPRSX0"
      },
      "source": [
        "###Métricas"
      ]
    },
    {
      "cell_type": "markdown",
      "metadata": {
        "id": "Qnay7brsRUhB"
      },
      "source": [
        "Acurácia"
      ]
    },
    {
      "cell_type": "code",
      "execution_count": null,
      "metadata": {
        "colab": {
          "base_uri": "https://localhost:8080/"
        },
        "id": "_LyNdUN8RO66",
        "outputId": "8cbac984-f040-4f2a-b504-27199bcfa77f"
      },
      "outputs": [
        {
          "output_type": "execute_result",
          "data": {
            "text/plain": [
              "1.0"
            ]
          },
          "metadata": {},
          "execution_count": 42
        }
      ],
      "source": [
        "#acurácia do modelo\n",
        "from sklearn.metrics import accuracy_score\n",
        "accuracy_score(y_test, y_pred_rdf)"
      ]
    },
    {
      "cell_type": "markdown",
      "metadata": {
        "id": "M1Ixi_5DRXbR"
      },
      "source": [
        "Precisão"
      ]
    },
    {
      "cell_type": "code",
      "execution_count": null,
      "metadata": {
        "colab": {
          "base_uri": "https://localhost:8080/"
        },
        "id": "mSRTBO9SRXAx",
        "outputId": "16ca0dc2-a17f-4778-e56a-507b10cd2f3e"
      },
      "outputs": [
        {
          "output_type": "execute_result",
          "data": {
            "text/plain": [
              "1.0"
            ]
          },
          "metadata": {},
          "execution_count": 43
        }
      ],
      "source": [
        "#predição do modelo\n",
        "from sklearn.metrics import precision_score\n",
        "precision_score(y_test, y_pred_rdf)"
      ]
    },
    {
      "cell_type": "markdown",
      "metadata": {
        "id": "0KoHssB4Rd80"
      },
      "source": [
        "Recall"
      ]
    },
    {
      "cell_type": "code",
      "execution_count": null,
      "metadata": {
        "colab": {
          "base_uri": "https://localhost:8080/"
        },
        "id": "GsN_XhEYRdh6",
        "outputId": "596ad9fa-c946-4184-e5df-a24e253eadb7"
      },
      "outputs": [
        {
          "output_type": "execute_result",
          "data": {
            "text/plain": [
              "1.0"
            ]
          },
          "metadata": {},
          "execution_count": 44
        }
      ],
      "source": [
        "#recall do modelo\n",
        "from sklearn.metrics import recall_score\n",
        "recall_score(y_test, y_pred_rdf)"
      ]
    },
    {
      "cell_type": "code",
      "execution_count": null,
      "metadata": {
        "colab": {
          "base_uri": "https://localhost:8080/"
        },
        "id": "Sc8Z1qYbRz_a",
        "outputId": "f571304f-2d4a-4f56-8c88-2ca1a39d2c37"
      },
      "outputs": [
        {
          "output_type": "execute_result",
          "data": {
            "text/plain": [
              "<sklearn.metrics._plot.confusion_matrix.ConfusionMatrixDisplay at 0x7f1db560e810>"
            ]
          },
          "metadata": {},
          "execution_count": 45
        },
        {
          "output_type": "display_data",
          "data": {
            "text/plain": [
              "<Figure size 432x288 with 2 Axes>"
            ],
            "image/png": "[encoded data removed]"
          },
          "metadata": {
            "needs_background": "light"
          }
        }
      ],
      "source": [
        "#visualização dos erros e acertos da predição\n",
        "plot_confusion_matrix(rdf,x_test,y_test, cmap='Blues')"
      ]
    },
    {
      "cell_type": "markdown",
      "metadata": {
        "id": "6wNFILDjR6Qi"
      },
      "source": []
    },
    {
      "cell_type": "markdown",
      "metadata": {
        "id": "1OSEpLxDHICV"
      },
      "source": [
        "##Random Forest Parâmetro 2\n"
      ]
    },
    {
      "cell_type": "code",
      "execution_count": null,
      "metadata": {
        "colab": {
          "base_uri": "https://localhost:8080/"
        },
        "id": "yKFHJgHKHICW",
        "outputId": "4a850c03-6552-4fe2-ee00-ee67a55fbc42"
      },
      "outputs": [
        {
          "output_type": "execute_result",
          "data": {
            "text/plain": [
              "RandomForestClassifier(random_state=42)"
            ]
          },
          "metadata": {},
          "execution_count": 46
        }
      ],
      "source": [
        "#treinamento do modelo\n",
        "from sklearn.ensemble import RandomForestClassifier\n",
        "from sklearn.metrics import plot_confusion_matrix\n",
        "\n",
        "rdf = RandomForestClassifier(criterion='gini', random_state=42)\n",
        "rdf.fit(x_train, y_train)\n"
      ]
    },
    {
      "cell_type": "code",
      "execution_count": null,
      "metadata": {
        "id": "ehKAIpBLHICX"
      },
      "outputs": [],
      "source": [
        "#predição do modelo\n",
        "y_pred_rdf = rdf.predict(x_test)"
      ]
    },
    {
      "cell_type": "markdown",
      "metadata": {
        "id": "Car3VeWVHICY"
      },
      "source": [
        "###Métricas"
      ]
    },
    {
      "cell_type": "markdown",
      "metadata": {
        "id": "0pGHzPuJHICY"
      },
      "source": [
        "Acurácia"
      ]
    },
    {
      "cell_type": "code",
      "execution_count": null,
      "metadata": {
        "colab": {
          "base_uri": "https://localhost:8080/"
        },
        "id": "ASEAPlr8HICZ",
        "outputId": "9fb1e615-629c-499a-98a9-acfd75a6cfb8"
      },
      "outputs": [
        {
          "output_type": "execute_result",
          "data": {
            "text/plain": [
              "1.0"
            ]
          },
          "metadata": {},
          "execution_count": 48
        }
      ],
      "source": [
        "#acurácia do modelo\n",
        "from sklearn.metrics import accuracy_score\n",
        "accuracy_score(y_test, y_pred_rdf)"
      ]
    },
    {
      "cell_type": "markdown",
      "metadata": {
        "id": "ztp9kiAWHICa"
      },
      "source": [
        "Precisão"
      ]
    },
    {
      "cell_type": "code",
      "execution_count": null,
      "metadata": {
        "colab": {
          "base_uri": "https://localhost:8080/"
        },
        "id": "M6vc5TM7HICa",
        "outputId": "6a090732-fc4f-462b-bfce-e5ac7e1772c8"
      },
      "outputs": [
        {
          "output_type": "execute_result",
          "data": {
            "text/plain": [
              "1.0"
            ]
          },
          "metadata": {},
          "execution_count": 49
        }
      ],
      "source": [
        "#precisão do modelo\n",
        "from sklearn.metrics import precision_score\n",
        "precision_score(y_test, y_pred_rdf)"
      ]
    },
    {
      "cell_type": "markdown",
      "metadata": {
        "id": "g9NmfrNGHICb"
      },
      "source": [
        "Recall"
      ]
    },
    {
      "cell_type": "code",
      "execution_count": null,
      "metadata": {
        "colab": {
          "base_uri": "https://localhost:8080/"
        },
        "id": "hHrisuwfHICb",
        "outputId": "7ba2346e-848f-4177-ba28-06685614adac"
      },
      "outputs": [
        {
          "output_type": "execute_result",
          "data": {
            "text/plain": [
              "1.0"
            ]
          },
          "metadata": {},
          "execution_count": 50
        }
      ],
      "source": [
        "#recall do modelo\n",
        "from sklearn.metrics import recall_score\n",
        "recall_score(y_test, y_pred_rdf)"
      ]
    },
    {
      "cell_type": "code",
      "execution_count": null,
      "metadata": {
        "colab": {
          "base_uri": "https://localhost:8080/"
        },
        "id": "bwWsWspiHICc",
        "outputId": "72c4c1b0-a01b-409e-83b5-baec6de0d658"
      },
      "outputs": [
        {
          "output_type": "execute_result",
          "data": {
            "text/plain": [
              "<sklearn.metrics._plot.confusion_matrix.ConfusionMatrixDisplay at 0x7f1db553efd0>"
            ]
          },
          "metadata": {},
          "execution_count": 51
        },
        {
          "output_type": "display_data",
          "data": {
            "text/plain": [
              "<Figure size 432x288 with 2 Axes>"
            ],
            "image/png": "[encoded data removed]"
          },
          "metadata": {
            "needs_background": "light"
          }
        }
      ],
      "source": [
        "#visualização dos erros e acertos da predição\n",
        "plot_confusion_matrix(rdf,x_test,y_test, cmap='Blues')"
      ]
    },
    {
      "cell_type": "markdown",
      "metadata": {
        "id": "20pGKCPtHICc"
      },
      "source": []
    },
    {
      "cell_type": "markdown",
      "metadata": {
        "id": "LVEu01o4HLCi"
      },
      "source": [
        "##Random Forest Parâmetro 3\n"
      ]
    },
    {
      "cell_type": "code",
      "execution_count": null,
      "metadata": {
        "colab": {
          "base_uri": "https://localhost:8080/"
        },
        "id": "KayY1ROHHLCj",
        "outputId": "197c45a4-1c81-461e-b2c8-ad5a727066e0"
      },
      "outputs": [
        {
          "output_type": "execute_result",
          "data": {
            "text/plain": [
              "RandomForestClassifier(criterion='entropy', random_state=42)"
            ]
          },
          "metadata": {},
          "execution_count": 52
        }
      ],
      "source": [
        "#treinamento do modelo\n",
        "from sklearn.ensemble import RandomForestClassifier\n",
        "from sklearn.metrics import plot_confusion_matrix\n",
        "\n",
        "rdf = RandomForestClassifier(criterion='entropy', max_features='auto', random_state=42)\n",
        "rdf.fit(x_train, y_train)\n",
        "\n"
      ]
    },
    {
      "cell_type": "code",
      "execution_count": null,
      "metadata": {
        "id": "JSfcWS-rHLCk"
      },
      "outputs": [],
      "source": [
        "#predição do modelo\n",
        "y_pred_rdf = rdf.predict(x_test)"
      ]
    },
    {
      "cell_type": "markdown",
      "metadata": {
        "id": "ZcUpljQAHLCl"
      },
      "source": [
        "###Métricas"
      ]
    },
    {
      "cell_type": "markdown",
      "metadata": {
        "id": "MRS7tGIbHLCl"
      },
      "source": [
        "Acurácia"
      ]
    },
    {
      "cell_type": "code",
      "execution_count": null,
      "metadata": {
        "colab": {
          "base_uri": "https://localhost:8080/"
        },
        "id": "gUsUlFmgHLCm",
        "outputId": "3cb0e7b4-7ab8-4d9c-b364-cd00bf6af023"
      },
      "outputs": [
        {
          "output_type": "execute_result",
          "data": {
            "text/plain": [
              "1.0"
            ]
          },
          "metadata": {},
          "execution_count": 54
        }
      ],
      "source": [
        "#acurácia do modelo\n",
        "from sklearn.metrics import accuracy_score\n",
        "accuracy_score(y_test, y_pred_rdf)"
      ]
    },
    {
      "cell_type": "markdown",
      "metadata": {
        "id": "mZB8sTBVHLCm"
      },
      "source": [
        "Precisão"
      ]
    },
    {
      "cell_type": "code",
      "execution_count": null,
      "metadata": {
        "colab": {
          "base_uri": "https://localhost:8080/"
        },
        "id": "0nNdfEeqHLCn",
        "outputId": "59b9c1e7-5253-48a7-cfe8-2be7f125822a"
      },
      "outputs": [
        {
          "output_type": "execute_result",
          "data": {
            "text/plain": [
              "1.0"
            ]
          },
          "metadata": {},
          "execution_count": 55
        }
      ],
      "source": [
        "#precisão do modelo\n",
        "from sklearn.metrics import precision_score\n",
        "precision_score(y_test, y_pred_rdf)"
      ]
    },
    {
      "cell_type": "markdown",
      "metadata": {
        "id": "xikSxSHTHLCo"
      },
      "source": [
        "Recall"
      ]
    },
    {
      "cell_type": "code",
      "execution_count": null,
      "metadata": {
        "colab": {
          "base_uri": "https://localhost:8080/"
        },
        "id": "DXE6037cHLCo",
        "outputId": "203fa4bd-842a-4316-f20d-a39562951454"
      },
      "outputs": [
        {
          "output_type": "execute_result",
          "data": {
            "text/plain": [
              "1.0"
            ]
          },
          "metadata": {},
          "execution_count": 56
        }
      ],
      "source": [
        "#recall do modelo\n",
        "from sklearn.metrics import recall_score\n",
        "recall_score(y_test, y_pred_rdf)"
      ]
    },
    {
      "cell_type": "code",
      "execution_count": null,
      "metadata": {
        "colab": {
          "base_uri": "https://localhost:8080/"
        },
        "id": "UOvW_AphHLCp",
        "outputId": "3ace8215-859f-41c4-a742-83977381b9c2"
      },
      "outputs": [
        {
          "output_type": "execute_result",
          "data": {
            "text/plain": [
              "<sklearn.metrics._plot.confusion_matrix.ConfusionMatrixDisplay at 0x7f1db5543990>"
            ]
          },
          "metadata": {},
          "execution_count": 57
        },
        {
          "output_type": "display_data",
          "data": {
            "text/plain": [
              "<Figure size 432x288 with 2 Axes>"
            ],
            "image/png": "[encoded data removed]"
          },
          "metadata": {
            "needs_background": "light"
          }
        }
      ],
      "source": [
        "#visualização dos erros e acertos da predição\n",
        "plot_confusion_matrix(rdf,x_test,y_test, cmap='Blues')"
      ]
    },
    {
      "cell_type": "markdown",
      "metadata": {
        "id": "EdmV6T_9HLCp"
      },
      "source": []
    },
    {
      "cell_type": "markdown",
      "metadata": {
        "id": "Q-z_kAsRHMqX"
      },
      "source": [
        "##Random Forest Parâmetro 4\n"
      ]
    },
    {
      "cell_type": "code",
      "execution_count": null,
      "metadata": {
        "colab": {
          "base_uri": "https://localhost:8080/"
        },
        "id": "m3XfZNKyHMqY",
        "outputId": "48a85374-9f84-443d-ab49-9444a1d1eb81"
      },
      "outputs": [
        {
          "output_type": "execute_result",
          "data": {
            "text/plain": [
              "RandomForestClassifier(criterion='entropy', max_features='sqrt',\n",
              "                       random_state=42)"
            ]
          },
          "metadata": {},
          "execution_count": 58
        }
      ],
      "source": [
        "#treinamento do modelo\n",
        "from sklearn.ensemble import RandomForestClassifier\n",
        "from sklearn.metrics import plot_confusion_matrix\n",
        "\n",
        "rdf = RandomForestClassifier(criterion='entropy', max_features='sqrt', random_state=42)\n",
        "rdf.fit(x_train, y_train)"
      ]
    },
    {
      "cell_type": "code",
      "execution_count": null,
      "metadata": {
        "id": "nGefRyaVHMqa"
      },
      "outputs": [],
      "source": [
        "#predição do modelo\n",
        "y_pred_rdf = rdf.predict(x_test)"
      ]
    },
    {
      "cell_type": "markdown",
      "metadata": {
        "id": "o5pH7dkqHMqa"
      },
      "source": [
        "###Métricas"
      ]
    },
    {
      "cell_type": "markdown",
      "metadata": {
        "id": "SYsxzkViHMqb"
      },
      "source": [
        "Acurácia"
      ]
    },
    {
      "cell_type": "code",
      "execution_count": null,
      "metadata": {
        "colab": {
          "base_uri": "https://localhost:8080/"
        },
        "id": "iIVO0wB0HMqb",
        "outputId": "687a2a45-c8d6-4e85-b82d-82dfc594aa0c"
      },
      "outputs": [
        {
          "output_type": "execute_result",
          "data": {
            "text/plain": [
              "1.0"
            ]
          },
          "metadata": {},
          "execution_count": 60
        }
      ],
      "source": [
        "#acurácia do modelo\n",
        "from sklearn.metrics import accuracy_score\n",
        "accuracy_score(y_test, y_pred_rdf)"
      ]
    },
    {
      "cell_type": "markdown",
      "metadata": {
        "id": "o37KWK3vHMqc"
      },
      "source": [
        "Precisão"
      ]
    },
    {
      "cell_type": "code",
      "execution_count": null,
      "metadata": {
        "colab": {
          "base_uri": "https://localhost:8080/"
        },
        "id": "8g8Ww331HMqc",
        "outputId": "8fed4fd5-74e5-4bec-878f-af77ec915935"
      },
      "outputs": [
        {
          "output_type": "execute_result",
          "data": {
            "text/plain": [
              "1.0"
            ]
          },
          "metadata": {},
          "execution_count": 61
        }
      ],
      "source": [
        "#precisão do modelo\n",
        "from sklearn.metrics import precision_score\n",
        "precision_score(y_test, y_pred_rdf)"
      ]
    },
    {
      "cell_type": "markdown",
      "metadata": {
        "id": "9hnp2QmTHMqd"
      },
      "source": [
        "Recall"
      ]
    },
    {
      "cell_type": "code",
      "execution_count": null,
      "metadata": {
        "colab": {
          "base_uri": "https://localhost:8080/"
        },
        "id": "w_E58hu1HMqd",
        "outputId": "c7cb9201-17cc-48b7-f3d1-bd6389e91621"
      },
      "outputs": [
        {
          "output_type": "execute_result",
          "data": {
            "text/plain": [
              "1.0"
            ]
          },
          "metadata": {},
          "execution_count": 62
        }
      ],
      "source": [
        "#recall do modelo\n",
        "from sklearn.metrics import recall_score\n",
        "recall_score(y_test, y_pred_rdf)"
      ]
    },
    {
      "cell_type": "code",
      "execution_count": null,
      "metadata": {
        "colab": {
          "base_uri": "https://localhost:8080/"
        },
        "id": "C_1JtTlPHMqe",
        "outputId": "82565724-48c3-4a5d-e71b-59d1b2556777"
      },
      "outputs": [
        {
          "output_type": "execute_result",
          "data": {
            "text/plain": [
              "<sklearn.metrics._plot.confusion_matrix.ConfusionMatrixDisplay at 0x7f1db548cdd0>"
            ]
          },
          "metadata": {},
          "execution_count": 63
        },
        {
          "output_type": "display_data",
          "data": {
            "text/plain": [
              "<Figure size 432x288 with 2 Axes>"
            ],
            "image/png": "[encoded data removed]"
          },
          "metadata": {
            "needs_background": "light"
          }
        }
      ],
      "source": [
        "#visualização dos erros e acertos da predição\n",
        "plot_confusion_matrix(rdf,x_test,y_test, cmap='Blues')"
      ]
    },
    {
      "cell_type": "markdown",
      "metadata": {
        "id": "GaeihDuHHMqf"
      },
      "source": []
    },
    {
      "cell_type": "markdown",
      "metadata": {
        "id": "hvu2s80eHOlh"
      },
      "source": [
        "##Random Forest Parâmetro 5\n"
      ]
    },
    {
      "cell_type": "code",
      "execution_count": null,
      "metadata": {
        "colab": {
          "base_uri": "https://localhost:8080/"
        },
        "id": "KGvgI5FIHOli",
        "outputId": "c5d13df4-01b5-4b6b-94a8-00b53d946d1f"
      },
      "outputs": [
        {
          "output_type": "execute_result",
          "data": {
            "text/plain": [
              "RandomForestClassifier(criterion='entropy', max_features='log2',\n",
              "                       random_state=42)"
            ]
          },
          "metadata": {},
          "execution_count": 64
        }
      ],
      "source": [
        "#treinamento do modelo\n",
        "from sklearn.ensemble import RandomForestClassifier\n",
        "from sklearn.metrics import plot_confusion_matrix\n",
        "\n",
        "rdf = RandomForestClassifier(criterion='entropy', max_features='log2', random_state=42)\n",
        "rdf.fit(x_train, y_train)\n"
      ]
    },
    {
      "cell_type": "code",
      "execution_count": null,
      "metadata": {
        "id": "f6L80h4LHOlj"
      },
      "outputs": [],
      "source": [
        "#predição do modelo\n",
        "y_pred_rdf = rdf.predict(x_test)"
      ]
    },
    {
      "cell_type": "markdown",
      "metadata": {
        "id": "lBkebaXxHOlj"
      },
      "source": [
        "###Métricas"
      ]
    },
    {
      "cell_type": "markdown",
      "metadata": {
        "id": "4E1wsEpJHOlk"
      },
      "source": [
        "Acurácia"
      ]
    },
    {
      "cell_type": "code",
      "execution_count": null,
      "metadata": {
        "colab": {
          "base_uri": "https://localhost:8080/"
        },
        "id": "QQrGsLLHHOlk",
        "outputId": "ebfc280f-1ae3-4d34-9d1d-60a22bd7f90a"
      },
      "outputs": [
        {
          "output_type": "execute_result",
          "data": {
            "text/plain": [
              "1.0"
            ]
          },
          "metadata": {},
          "execution_count": 66
        }
      ],
      "source": [
        "#acurácia do modelo\n",
        "from sklearn.metrics import accuracy_score\n",
        "accuracy_score(y_test, y_pred_rdf)"
      ]
    },
    {
      "cell_type": "markdown",
      "metadata": {
        "id": "VlYgeWEKHOll"
      },
      "source": [
        "Precisão"
      ]
    },
    {
      "cell_type": "code",
      "execution_count": null,
      "metadata": {
        "colab": {
          "base_uri": "https://localhost:8080/"
        },
        "id": "nHEMjzH4HOll",
        "outputId": "6434b614-9a46-4f7b-f1c9-636c77508b0d"
      },
      "outputs": [
        {
          "output_type": "execute_result",
          "data": {
            "text/plain": [
              "1.0"
            ]
          },
          "metadata": {},
          "execution_count": 67
        }
      ],
      "source": [
        "#precisão do modelo\n",
        "from sklearn.metrics import precision_score\n",
        "precision_score(y_test, y_pred_rdf)"
      ]
    },
    {
      "cell_type": "markdown",
      "metadata": {
        "id": "Rw8-_J_5HOlm"
      },
      "source": [
        "Recall"
      ]
    },
    {
      "cell_type": "code",
      "execution_count": null,
      "metadata": {
        "colab": {
          "base_uri": "https://localhost:8080/"
        },
        "id": "eTMlVWq9HOlm",
        "outputId": "393f0439-6225-4590-ada2-76c73483d3f7"
      },
      "outputs": [
        {
          "output_type": "execute_result",
          "data": {
            "text/plain": [
              "1.0"
            ]
          },
          "metadata": {},
          "execution_count": 68
        }
      ],
      "source": [
        "#recall do modelo\n",
        "from sklearn.metrics import recall_score\n",
        "recall_score(y_test, y_pred_rdf)"
      ]
    },
    {
      "cell_type": "code",
      "execution_count": null,
      "metadata": {
        "colab": {
          "base_uri": "https://localhost:8080/"
        },
        "id": "X1dF5JwYHOln",
        "outputId": "6f19a960-61a6-43fe-b332-650ea4c8d29f"
      },
      "outputs": [
        {
          "output_type": "execute_result",
          "data": {
            "text/plain": [
              "<sklearn.metrics._plot.confusion_matrix.ConfusionMatrixDisplay at 0x7f1db531f910>"
            ]
          },
          "metadata": {},
          "execution_count": 69
        },
        {
          "output_type": "display_data",
          "data": {
            "text/plain": [
              "<Figure size 432x288 with 2 Axes>"
            ],
            "image/png": "[encoded data removed]"
          },
          "metadata": {
            "needs_background": "light"
          }
        }
      ],
      "source": [
        "#visualização dos erros e acertos da predição\n",
        "plot_confusion_matrix(rdf,x_test,y_test, cmap='Blues')"
      ]
    },
    {
      "cell_type": "markdown",
      "metadata": {
        "id": "Ha_XPW7fHOln"
      },
      "source": []
    },
    {
      "cell_type": "code",
      "execution_count": null,
      "metadata": {
        "id": "xNFtfJzyHOlo"
      },
      "outputs": [],
      "source": [
        "from sklearn.linear_model import LogisticRegression\n",
        "rgl = LogisticRegression().fit(x_train, y_train)"
      ]
    },
    {
      "cell_type": "code",
      "execution_count": null,
      "metadata": {
        "id": "sEb_3sfoHOlo"
      },
      "outputs": [],
      "source": [
        "y_pred_rgl = rgl.predict(x_test)"
      ]
    },
    {
      "cell_type": "markdown",
      "metadata": {
        "id": "uD8FOuTKHOlo"
      },
      "source": [
        "###Métricas"
      ]
    },
    {
      "cell_type": "markdown",
      "metadata": {
        "id": "cmxj5mucHOlp"
      },
      "source": [
        "Acuracia"
      ]
    },
    {
      "cell_type": "code",
      "execution_count": null,
      "metadata": {
        "colab": {
          "base_uri": "https://localhost:8080/"
        },
        "id": "BmPK7DQDHOlp",
        "outputId": "be1a8733-fd09-49c9-b4fc-071b492d12b5"
      },
      "outputs": [
        {
          "output_type": "execute_result",
          "data": {
            "text/plain": [
              "0.8453647416413373"
            ]
          },
          "metadata": {},
          "execution_count": 72
        }
      ],
      "source": [
        "#acurácia do modelo\n",
        "from sklearn.metrics import accuracy_score\n",
        "accuracy_score(y_test, y_pred_rgl)"
      ]
    },
    {
      "cell_type": "markdown",
      "metadata": {
        "id": "B7TEe9ngHOlq"
      },
      "source": [
        "Precisão"
      ]
    },
    {
      "cell_type": "code",
      "execution_count": null,
      "metadata": {
        "colab": {
          "base_uri": "https://localhost:8080/"
        },
        "id": "tBSoLPKVHOlq",
        "outputId": "b8b23e61-e435-42ac-ac5e-53c122a6faca"
      },
      "outputs": [
        {
          "output_type": "execute_result",
          "data": {
            "text/plain": [
              "0.769273433166944"
            ]
          },
          "metadata": {},
          "execution_count": 73
        }
      ],
      "source": [
        "#precisão do modelo\n",
        "from sklearn.metrics import precision_score\n",
        "precision_score(y_test, y_pred_rgl)"
      ]
    },
    {
      "cell_type": "markdown",
      "metadata": {
        "id": "DBZEksz8HOlr"
      },
      "source": [
        "Recall"
      ]
    },
    {
      "cell_type": "code",
      "execution_count": null,
      "metadata": {
        "colab": {
          "base_uri": "https://localhost:8080/"
        },
        "id": "yAvkv-oaHOlr",
        "outputId": "d8e30093-1e9d-462f-c7e4-aef73b9f3cfc"
      },
      "outputs": [
        {
          "output_type": "execute_result",
          "data": {
            "text/plain": [
              "0.6327554744525548"
            ]
          },
          "metadata": {},
          "execution_count": 74
        }
      ],
      "source": [
        "#recall do modelo\n",
        "from sklearn.metrics import recall_score\n",
        "recall_score(y_test, y_pred_rgl)"
      ]
    },
    {
      "cell_type": "markdown",
      "metadata": {
        "id": "4r-A9iUgHOls"
      },
      "source": [
        "###Matriz de confusão"
      ]
    },
    {
      "cell_type": "code",
      "execution_count": null,
      "metadata": {
        "colab": {
          "base_uri": "https://localhost:8080/"
        },
        "id": "8IzJPoesHOls",
        "outputId": "2588a0ca-2f8d-4930-9390-92440f9bbe10"
      },
      "outputs": [
        {
          "output_type": "execute_result",
          "data": {
            "text/plain": [
              "<sklearn.metrics._plot.confusion_matrix.ConfusionMatrixDisplay at 0x7f1db523c6d0>"
            ]
          },
          "metadata": {},
          "execution_count": 75
        },
        {
          "output_type": "display_data",
          "data": {
            "text/plain": [
              "<Figure size 432x288 with 2 Axes>"
            ],
            "image/png": "[encoded data removed]"
          },
          "metadata": {
            "needs_background": "light"
          }
        }
      ],
      "source": [
        "#visualização dos erros e acertos da predição\n",
        "plot_confusion_matrix(rgl,x_test,y_test, cmap='Blues')"
      ]
    },
    {
      "cell_type": "markdown",
      "metadata": {
        "id": "PLHl30mOcgwJ"
      },
      "source": [
        "#GridSearch"
      ]
    },
    {
      "cell_type": "code",
      "execution_count": null,
      "metadata": {
        "id": "clEaBOURc_2W"
      },
      "outputs": [],
      "source": [
        "from sklearn.model_selection import GridSearchCV\n",
        "from sklearn.neighbors import KNeighborsClassifier"
      ]
    },
    {
      "cell_type": "markdown",
      "metadata": {
        "id": "qFqar1aJcqMx"
      },
      "source": [
        "##Random Forest"
      ]
    },
    {
      "cell_type": "code",
      "execution_count": null,
      "metadata": {
        "colab": {
          "base_uri": "https://localhost:8080/"
        },
        "id": "beYxHVlzckom",
        "outputId": "ebecf5b9-9bfa-4868-f7e2-17825a251f30"
      },
      "outputs": [
        {
          "output_type": "execute_result",
          "data": {
            "text/plain": [
              "GridSearchCV(estimator=RandomForestClassifier(),\n",
              "             param_grid={'criterion': ['gini', 'entropy', 'log loss'],\n",
              "                         'max_depth': [10, 20, 30, 40, 50],\n",
              "                         'n_estimators': [10, 20, 40, 60, 80, 100]})"
            ]
          },
          "metadata": {},
          "execution_count": 77
        }
      ],
      "source": [
        "# Definir o espaço possível dos hiperparametros a serem testados no modelo\n",
        "parametros = {'n_estimators': [10, 20, 40, 60, 80, 100],\n",
        "              'criterion': ['gini', 'entropy','log loss'],\n",
        "              'max_depth': [10,20,30,40,50],}\n",
        "\n",
        "rdf = RandomForestClassifier()\n",
        "grid_search = GridSearchCV(estimator = RandomForestClassifier(), param_grid=parametros)\n",
        "grid_search.fit(x_train, y_train.squeeze())"
      ]
    },
    {
      "cell_type": "code",
      "execution_count": null,
      "metadata": {
        "colab": {
          "base_uri": "https://localhost:8080/"
        },
        "id": "-ArIZ0VyDl8n",
        "outputId": "bc6f3501-e652-4c86-f521-8eb4dfd4d703"
      },
      "outputs": [
        {
          "output_type": "stream",
          "name": "stdout",
          "text": [
            "1.0\n",
            "{'criterion': 'gini', 'max_depth': 10, 'n_estimators': 10}\n"
          ]
        }
      ],
      "source": [
        "#mostrar os melhores parâmetros\n",
        "print(grid_search.best_score_)\n",
        "print(grid_search.best_params_)"
      ]
    },
    {
      "cell_type": "code",
      "execution_count": null,
      "metadata": {
        "colab": {
          "base_uri": "https://localhost:8080/"
        },
        "id": "LBNRzC_0DpT_",
        "outputId": "05478bd7-aa4b-46fa-e81c-4e46fb980ec7"
      },
      "outputs": [
        {
          "output_type": "execute_result",
          "data": {
            "text/plain": [
              "RandomForestClassifier(max_depth=10, n_estimators=10)"
            ]
          },
          "metadata": {},
          "execution_count": 79
        }
      ],
      "source": [
        "#armazenar as métricas do modelo\n",
        "rdf_best = grid_search.best_estimator_\n",
        "rdf_best"
      ]
    },
    {
      "cell_type": "code",
      "execution_count": null,
      "metadata": {
        "colab": {
          "base_uri": "https://localhost:8080/"
        },
        "id": "WV2Jqc5aDsT4",
        "outputId": "983c7684-5a83-41ea-e055-bfc48ea0c78e"
      },
      "outputs": [
        {
          "output_type": "stream",
          "name": "stdout",
          "text": [
            "Acc treino:  1.0\n",
            "Acc teste:  1.0\n",
            "Revocação:  1.0\n",
            "Precisão:  1.0\n"
          ]
        }
      ],
      "source": [
        "#mostrar as métricas do teste do modelo\n",
        "y_pred = rdf_best.predict(x_test)\n",
        "print('Acc treino: ', rdf_best.score(x_train, y_train ))\n",
        "print('Acc teste: ', rdf_best.score(x_test, y_test.squeeze() ))\n",
        "print( 'Revocação: ', recall_score( y_test, y_pred ))\n",
        "print( 'Precisão: ', precision_score( y_test, y_pred ))"
      ]
    },
    {
      "cell_type": "markdown",
      "metadata": {
        "id": "mmqfNVTYMMKh"
      },
      "source": [
        "## ÁRVORE DE DECISÃO"
      ]
    },
    {
      "cell_type": "code",
      "execution_count": null,
      "metadata": {
        "colab": {
          "base_uri": "https://localhost:8080/"
        },
        "id": "mZK6K8jHMahZ",
        "outputId": "aef63af7-e73f-4710-dce2-067ce57a00f1"
      },
      "outputs": [
        {
          "output_type": "execute_result",
          "data": {
            "text/plain": [
              "GridSearchCV(estimator=DecisionTreeClassifier(),\n",
              "             param_grid={'criterion': ['gini', 'entropy', 'log loss'],\n",
              "                         'max_depth': [10, 20, 30, 40, 50],\n",
              "                         'splitter': ['best', 'random']})"
            ]
          },
          "metadata": {},
          "execution_count": 81
        }
      ],
      "source": [
        "# Definir o espaço possível dos hiperparametros a serem testados no modelo\n",
        "parametros = { 'splitter': ['best', 'random'],\n",
        "              'criterion': ['gini', 'entropy','log loss'],\n",
        "              'max_depth': [10,20,30,40,50],}\n",
        "\n",
        "\n",
        "grid_search = GridSearchCV(estimator = DecisionTreeClassifier(), param_grid=parametros)\n",
        "grid_search.fit(x_train, y_train.squeeze())"
      ]
    },
    {
      "cell_type": "code",
      "execution_count": null,
      "metadata": {
        "colab": {
          "base_uri": "https://localhost:8080/"
        },
        "id": "SGKsx6eeNciR",
        "outputId": "ac625f7e-295d-4ac1-86d0-8616c9c3b6f8"
      },
      "outputs": [
        {
          "output_type": "stream",
          "name": "stdout",
          "text": [
            "1.0\n",
            "{'criterion': 'gini', 'max_depth': 10, 'splitter': 'best'}\n"
          ]
        }
      ],
      "source": [
        "#mostrar os melhores parâmetros\n",
        "print(grid_search.best_score_)\n",
        "print(grid_search.best_params_)"
      ]
    },
    {
      "cell_type": "code",
      "execution_count": null,
      "metadata": {
        "colab": {
          "base_uri": "https://localhost:8080/"
        },
        "id": "Ne6jcbYiNc7k",
        "outputId": "cd43a9be-da82-4c2a-bf20-a7a1ec5c456d"
      },
      "outputs": [
        {
          "output_type": "execute_result",
          "data": {
            "text/plain": [
              "DecisionTreeClassifier(max_depth=10)"
            ]
          },
          "metadata": {},
          "execution_count": 83
        }
      ],
      "source": [
        "#armazenar as métricas do modelo\n",
        "dt_best = grid_search.best_estimator_\n",
        "dt_best"
      ]
    },
    {
      "cell_type": "code",
      "execution_count": null,
      "metadata": {
        "colab": {
          "base_uri": "https://localhost:8080/"
        },
        "id": "w6IMAD4HNb2F",
        "outputId": "1b6f8d4e-1ba1-49e6-f07a-1285cbcfe11e"
      },
      "outputs": [
        {
          "output_type": "stream",
          "name": "stdout",
          "text": [
            "Acc treino:  1.0\n",
            "Acc teste:  1.0\n",
            "Revocação:  1.0\n",
            "Precisão:  1.0\n"
          ]
        }
      ],
      "source": [
        "#mostrar as métricas do teste do modelo\n",
        "y_pred = dt_best.predict(x_test)\n",
        "print('Acc treino: ', dt_best.score(x_train, y_train ))\n",
        "print('Acc teste: ', dt_best.score(x_test, y_test.squeeze() ))\n",
        "print( 'Revocação: ', recall_score( y_test, y_pred ))\n",
        "print( 'Precisão: ', precision_score( y_test, y_pred ))"
      ]
    },
    {
      "cell_type": "markdown",
      "metadata": {
        "id": "VxOnyWspRX0A"
      },
      "source": [
        "#RandomSearch"
      ]
    },
    {
      "cell_type": "markdown",
      "metadata": {
        "id": "3VuaIQOmRbu9"
      },
      "source": [
        "##Random Forest"
      ]
    },
    {
      "cell_type": "code",
      "execution_count": null,
      "metadata": {
        "id": "T_kV4RgISJJn"
      },
      "outputs": [],
      "source": [
        "from sklearn.model_selection import RandomizedSearchCV"
      ]
    },
    {
      "cell_type": "code",
      "execution_count": null,
      "metadata": {
        "colab": {
          "base_uri": "https://localhost:8080/"
        },
        "id": "kwmqwU8eRjil",
        "outputId": "46308aa7-851d-4967-a876-d07bf5ad977e"
      },
      "outputs": [
        {
          "output_type": "execute_result",
          "data": {
            "text/plain": [
              "RandomizedSearchCV(estimator=RandomForestClassifier(),\n",
              "                   param_distributions={'criterion': ['gini', 'entropy',\n",
              "                                                      'log loss'],\n",
              "                                        'max_depth': [10, 20, 30, 40, 50],\n",
              "                                        'n_estimators': [10, 20, 40, 60, 80,\n",
              "                                                         100]})"
            ]
          },
          "metadata": {},
          "execution_count": 86
        }
      ],
      "source": [
        "# Definir o espaço possível dos hiperparametros a serem testados no modelo\n",
        "parametros = {'n_estimators': [10, 20, 40, 60, 80, 100],\n",
        "              'criterion': ['gini', 'entropy','log loss'],\n",
        "              'max_depth': [10,20,30,40,50],}\n",
        "\n",
        "random_search = RandomizedSearchCV(estimator = RandomForestClassifier(), param_distributions=parametros)\n",
        "random_search.fit(x_train, y_train.squeeze())"
      ]
    },
    {
      "cell_type": "code",
      "execution_count": null,
      "metadata": {
        "colab": {
          "base_uri": "https://localhost:8080/"
        },
        "id": "ZbbD9CMyS9Hu",
        "outputId": "74fbb541-421c-4c87-ad5d-4cadbf62b02d"
      },
      "outputs": [
        {
          "output_type": "stream",
          "name": "stdout",
          "text": [
            "1.0\n",
            "{'n_estimators': 60, 'max_depth': 50, 'criterion': 'gini'}\n"
          ]
        }
      ],
      "source": [
        "#mostrar os melhores parametros\n",
        "print(random_search.best_score_)\n",
        "print(random_search.best_params_)"
      ]
    },
    {
      "cell_type": "code",
      "execution_count": null,
      "metadata": {
        "colab": {
          "base_uri": "https://localhost:8080/"
        },
        "id": "eA5aOOsjS85y",
        "outputId": "d3419024-6b9a-498f-821f-ef443ee21e18"
      },
      "outputs": [
        {
          "output_type": "execute_result",
          "data": {
            "text/plain": [
              "RandomForestClassifier(max_depth=50, n_estimators=60)"
            ]
          },
          "metadata": {},
          "execution_count": 88
        }
      ],
      "source": [
        "#armazenar as métricas do modelo\n",
        "rdf_best = random_search.best_estimator_\n",
        "rdf_best"
      ]
    },
    {
      "cell_type": "code",
      "execution_count": null,
      "metadata": {
        "colab": {
          "base_uri": "https://localhost:8080/"
        },
        "id": "j1bANiCHS8sB",
        "outputId": "97cc88e8-48eb-42dc-bf1b-b7d3e3452221"
      },
      "outputs": [
        {
          "output_type": "stream",
          "name": "stdout",
          "text": [
            "Acc treino:  1.0\n",
            "Acc teste:  1.0\n",
            "Revocação:  1.0\n",
            "Precisão:  1.0\n"
          ]
        }
      ],
      "source": [
        "#mostrar as métricas do teste do modelo\n",
        "y_pred = rdf_best.predict(x_test)\n",
        "print('Acc treino: ', rdf_best.score(x_train, y_train ))\n",
        "print('Acc teste: ', rdf_best.score(x_test, y_test.squeeze() ))\n",
        "print( 'Revocação: ', recall_score( y_test, y_pred ))\n",
        "print( 'Precisão: ', precision_score( y_test, y_pred ))"
      ]
    },
    {
      "cell_type": "markdown",
      "metadata": {
        "id": "gWmOioMAUZ0J"
      },
      "source": [
        "##Árvore de decisão"
      ]
    },
    {
      "cell_type": "code",
      "execution_count": null,
      "metadata": {
        "colab": {
          "base_uri": "https://localhost:8080/"
        },
        "id": "itf5sjMzUkGa",
        "outputId": "a70096e0-e553-4cc9-b84b-dc5f1acc8d19"
      },
      "outputs": [
        {
          "output_type": "execute_result",
          "data": {
            "text/plain": [
              "RandomizedSearchCV(estimator=DecisionTreeClassifier(),\n",
              "                   param_distributions={'criterion': ['gini', 'entropy',\n",
              "                                                      'log loss'],\n",
              "                                        'max_depth': [10, 20, 30, 40, 50],\n",
              "                                        'splitter': ['best', 'random']})"
            ]
          },
          "metadata": {},
          "execution_count": 90
        }
      ],
      "source": [
        "# Definir o espaço possível dos hiperparametros a serem testados no modelo\n",
        "parametros = { 'splitter': ['best', 'random'],\n",
        "              'criterion': ['gini', 'entropy','log loss'],\n",
        "              'max_depth': [10,20,30,40,50],}\n",
        "\n",
        "\n",
        "random_search = RandomizedSearchCV(estimator = DecisionTreeClassifier(), param_distributions=parametros)\n",
        "random_search.fit(x_train, y_train.squeeze())"
      ]
    },
    {
      "cell_type": "code",
      "execution_count": null,
      "metadata": {
        "colab": {
          "base_uri": "https://localhost:8080/"
        },
        "id": "fj1G4heoUlKT",
        "outputId": "57f7b722-51f5-41c4-b358-6d721abdcb1c"
      },
      "outputs": [
        {
          "output_type": "stream",
          "name": "stdout",
          "text": [
            "1.0\n",
            "{'splitter': 'best', 'max_depth': 20, 'criterion': 'gini'}\n"
          ]
        }
      ],
      "source": [
        "#mostrar os melhores parametros\n",
        "print(random_search.best_score_)\n",
        "print(random_search.best_params_)"
      ]
    },
    {
      "cell_type": "code",
      "execution_count": null,
      "metadata": {
        "id": "QjcqlSf0UlAD"
      },
      "outputs": [],
      "source": [
        "#armazenar as métricas do modelo\n",
        "dt_best = random_search.best_estimator_"
      ]
    },
    {
      "cell_type": "code",
      "execution_count": null,
      "metadata": {
        "id": "_ROZronUUkpb",
        "colab": {
          "base_uri": "https://localhost:8080/"
        },
        "outputId": "be257997-b8b9-4a7d-e4f2-bb892ca4db9b"
      },
      "outputs": [
        {
          "output_type": "stream",
          "name": "stdout",
          "text": [
            "Acc treino:  1.0\n",
            "Acc teste:  1.0\n",
            "Revocação:  1.0\n",
            "Precisão:  1.0\n"
          ]
        }
      ],
      "source": [
        "#mostrar as métricas do modelo\n",
        "y_pred = dt_best.predict(x_test)\n",
        "print('Acc treino: ', dt_best.score(x_train, y_train ))\n",
        "print('Acc teste: ', dt_best.score(x_test, y_test.squeeze() ))\n",
        "print( 'Revocação: ', recall_score( y_test, y_pred ))\n",
        "print( 'Precisão: ', precision_score( y_test, y_pred ))"
      ]
    }
  ],
  "metadata": {
    "colab": {
      "collapsed_sections": [
        "zCebOlteIHvx"
      ],
      "provenance": [],
      "include_colab_link": true
    },
    "kernelspec": {
      "display_name": "Python 3",
      "name": "python3"
    },
    "language_info": {
      "name": "python"
    }
  },
  "nbformat": 4,
  "nbformat_minor": 0
}